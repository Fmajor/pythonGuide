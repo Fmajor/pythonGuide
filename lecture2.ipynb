{
 "cells": [
  {
   "cell_type": "markdown",
   "metadata": {},
   "source": [
    "From https://github.com/jonathansick/awesome-astronomy\n",
    "- [AplPy](http://aplpy.github.io) - a Python module for astronomical imaging data.\n",
    "- [Astropy](http://astropy.org) - Core package for Astronomy in Python.\n",
    "- [AstroML](http://www.astroml.org) - Companion textbook *Statistics, Data Mining, and Machine Learning in Astronomy*.\n",
    "- [Emcee](http://dan.iel.fm/emcee/current/) - Seriously kick-ass MCMC.\n",
    "- [GalPy](https://github.com/jobovy/galpy) - Galactic Dynamics in python.\n",
    "- [The LSST Stack](https://confluence.lsstcorp.org/display/LSWUG/Using+the+LSST+Stack) Conda-installable codes for working with LSST simulation data and some existing data."
   ]
  },
  {
   "cell_type": "markdown",
   "metadata": {},
   "source": [
    "## Pandas\n",
    "\n",
    "\n",
    "Examples from [gully](https://github.com/gully)\n",
    "* https://github.com/BrownDwarf/ApJdataFrames"
   ]
  },
  {
   "cell_type": "code",
   "execution_count": null,
   "metadata": {
    "collapsed": true
   },
   "outputs": [],
   "source": []
  }
 ],
 "metadata": {
  "kernelspec": {
   "display_name": "Python 2",
   "language": "python",
   "name": "python2"
  },
  "language_info": {
   "codemirror_mode": {
    "name": "ipython",
    "version": 2
   },
   "file_extension": ".py",
   "mimetype": "text/x-python",
   "name": "python",
   "nbconvert_exporter": "python",
   "pygments_lexer": "ipython2",
   "version": "2.7.10"
  }
 },
 "nbformat": 4,
 "nbformat_minor": 0
}
