{
 "cells": [
  {
   "cell_type": "markdown",
   "metadata": {},
   "source": [
    "# Numpy\n",
    "http://www.numpy.org/"
   ]
  },
  {
   "cell_type": "markdown",
   "metadata": {},
   "source": [
    "# Scipy\n",
    "http://www.scipy.org/"
   ]
  },
  {
   "cell_type": "markdown",
   "metadata": {},
   "source": [
    "# Astropy\n",
    "http://www.astropy.org/"
   ]
  },
  {
   "cell_type": "markdown",
   "metadata": {},
   "source": [
    "## Pandas\n",
    "\n",
    "\n",
    "Examples from [gully](https://github.com/gully)\n",
    "* https://github.com/BrownDwarf/ApJdataFrames"
   ]
  },
  {
   "cell_type": "markdown",
   "metadata": {},
   "source": [
    "From https://github.com/jonathansick/awesome-astronomy\n",
    "- [AplPy](http://aplpy.github.io) - a Python module for astronomical imaging data.\n",
    "- [Astropy](http://astropy.org) - Core package for Astronomy in Python.\n",
    "- [AstroML](http://www.astroml.org) - Companion textbook *Statistics, Data Mining, and Machine Learning in Astronomy*.\n",
    "- [Emcee](http://dan.iel.fm/emcee/current/) - Seriously kick-ass MCMC.\n",
    "- [GalPy](https://github.com/jobovy/galpy) - Galactic Dynamics in python.\n",
    "- [The LSST Stack](https://confluence.lsstcorp.org/display/LSWUG/Using+the+LSST+Stack) Conda-installable codes for working with LSST simulation data and some existing data."
   ]
  },
  {
   "cell_type": "markdown",
   "metadata": {},
   "source": [
    "# Organize data\n",
    "\n",
    "## numpy.ndarray\n",
    "    simple but powerful\n",
    "## numpy.ma.MaskedArray\n",
    "    ndarray with mask\n",
    "## astropy.table\n",
    "    specifically designed for astro table\n",
    "## pandas.DataFrame\n",
    "    good at data clearning, suitable for collect and clean data from real life"
   ]
  },
  {
   "cell_type": "markdown",
   "metadata": {},
   "source": [
    "# Basic about numpy.ndarray"
   ]
  },
  {
   "cell_type": "code",
   "execution_count": 1,
   "metadata": {},
   "outputs": [
    {
     "ename": "TypeError",
     "evalue": "can only concatenate list (not \"int\") to list",
     "output_type": "error",
     "traceback": [
      "\u001b[0;31m---------------------------------------------------------------------------\u001b[0m",
      "\u001b[0;31mTypeError\u001b[0m                                 Traceback (most recent call last)",
      "\u001b[0;32m<ipython-input-1-bdef2c0e771d>\u001b[0m in \u001b[0;36m<module>\u001b[0;34m()\u001b[0m\n\u001b[1;32m      1\u001b[0m \u001b[0ma\u001b[0m \u001b[0;34m=\u001b[0m \u001b[0;34m[\u001b[0m\u001b[0;36m1\u001b[0m\u001b[0;34m,\u001b[0m\u001b[0;36m2\u001b[0m\u001b[0;34m,\u001b[0m\u001b[0;36m3\u001b[0m\u001b[0;34m]\u001b[0m\u001b[0;34m\u001b[0m\u001b[0m\n\u001b[0;32m----> 2\u001b[0;31m \u001b[0mb\u001b[0m \u001b[0;34m=\u001b[0m \u001b[0ma\u001b[0m \u001b[0;34m+\u001b[0m \u001b[0;36m1\u001b[0m\u001b[0;34m\u001b[0m\u001b[0m\n\u001b[0m",
      "\u001b[0;31mTypeError\u001b[0m: can only concatenate list (not \"int\") to list"
     ]
    }
   ],
   "source": [
    "a = [1,2,3]\n",
    "b = a + 1"
   ]
  },
  {
   "cell_type": "code",
   "execution_count": 2,
   "metadata": {},
   "outputs": [
    {
     "data": {
      "text/plain": [
       "array([2, 3, 4])"
      ]
     },
     "execution_count": 2,
     "metadata": {},
     "output_type": "execute_result"
    }
   ],
   "source": [
    "import numpy as np\n",
    "a = np.array([1,2,3])\n",
    "a + 1"
   ]
  },
  {
   "cell_type": "code",
   "execution_count": 3,
   "metadata": {},
   "outputs": [
    {
     "name": "stdout",
     "output_type": "stream",
     "text": [
      "[ 0.   0.5  1.   1.5  2.   2.5  3.   3.5  4.   4.5  5.   5.5  6.   6.5  7.\n",
      "  7.5  8.   8.5  9.   9.5]\n",
      "float64\n",
      "[ 0.          0.47942554  0.84147098  0.99749499  0.90929743  0.59847214\n",
      "  0.14112001 -0.35078323 -0.7568025  -0.97753012 -0.95892427 -0.70554033\n",
      " -0.2794155   0.21511999  0.6569866   0.93799998  0.98935825  0.79848711\n",
      "  0.41211849 -0.07515112]\n",
      "4.75\n"
     ]
    }
   ],
   "source": [
    "a = np.arange(0,10,0.5)\n",
    "print(a)\n",
    "print(a.dtype)\n",
    "print(np.sin(a))\n",
    "print(np.mean(a))"
   ]
  },
  {
   "cell_type": "raw",
   "metadata": {},
   "source": [
    "a.\n",
    "  all()          astype()       conj()         data           fill()         item()\n",
    "  any()          base           conjugate()    diagonal()     flags          itemset()\n",
    "  argmax()       byteswap()     copy()         dot()          flat           itemsize\n",
    "  argmin()       choose()       ctypes         dtype          flatten()      max()\n",
    "  argpartition() clip()         cumprod()      dump()         getfield()     mean()\n",
    "  argsort()      compress()     cumsum()       dumps()        imag           min()\n",
    "  nbytes         ptp()          resize()       size           swapaxes()     tostring()\n",
    "  ndim           put()          round()        sort()         T              trace()\n",
    "  newbyteorder() ravel()        searchsorted() squeeze()      take()         transpose()\n",
    "  nonzero()      real           setfield()     std()          tobytes()      var()\n",
    "  partition()    repeat()       setflags()     strides        tofile()       view()\n",
    "  prod()         reshape()      shape          sum()          tolist()"
   ]
  },
  {
   "cell_type": "code",
   "execution_count": 4,
   "metadata": {},
   "outputs": [
    {
     "data": {
      "text/plain": [
       "array([False, False, False, False, False, False, False,  True,  True,\n",
       "        True,  True,  True,  True,  True,  True,  True,  True,  True,\n",
       "        True,  True], dtype=bool)"
      ]
     },
     "execution_count": 4,
     "metadata": {},
     "output_type": "execute_result"
    }
   ],
   "source": [
    "a>3"
   ]
  },
  {
   "cell_type": "code",
   "execution_count": 5,
   "metadata": {},
   "outputs": [
    {
     "data": {
      "text/plain": [
       "array([ 3.5,  4. ,  4.5,  5. ,  5.5,  6. ,  6.5,  7. ,  7.5,  8. ,  8.5,\n",
       "        9. ,  9.5])"
      ]
     },
     "execution_count": 5,
     "metadata": {},
     "output_type": "execute_result"
    }
   ],
   "source": [
    "a[a>3]"
   ]
  },
  {
   "cell_type": "code",
   "execution_count": 6,
   "metadata": {},
   "outputs": [
    {
     "data": {
      "text/plain": [
       "(array([ 7,  8,  9, 10, 11, 12, 13, 14, 15, 16, 17, 18, 19]),)"
      ]
     },
     "execution_count": 6,
     "metadata": {},
     "output_type": "execute_result"
    }
   ],
   "source": [
    "np.where(a>3)"
   ]
  },
  {
   "cell_type": "code",
   "execution_count": 7,
   "metadata": {},
   "outputs": [
    {
     "data": {
      "text/plain": [
       "array([ 3.5,  4. ,  4.5,  5. ,  5.5,  6. ,  6.5,  7. ,  7.5,  8. ,  8.5,\n",
       "        9. ,  9.5])"
      ]
     },
     "execution_count": 7,
     "metadata": {},
     "output_type": "execute_result"
    }
   ],
   "source": [
    "a[np.where(a>3)]"
   ]
  },
  {
   "cell_type": "code",
   "execution_count": 8,
   "metadata": {},
   "outputs": [
    {
     "data": {
      "text/plain": [
       "(array([ 3.5]), array([ 3.5]))"
      ]
     },
     "execution_count": 8,
     "metadata": {},
     "output_type": "execute_result"
    }
   ],
   "source": [
    "a[(a>3)&(a<4)], a[np.logical_and(a>3, a<4)]"
   ]
  },
  {
   "cell_type": "code",
   "execution_count": 9,
   "metadata": {},
   "outputs": [
    {
     "name": "stdout",
     "output_type": "stream",
     "text": [
      "[0 0 1 1 2 2 3 3 4 4 5 5 6 6 7 7 8 8 9 9]\n",
      "int64\n"
     ]
    }
   ],
   "source": [
    "b = a.astype(np.int)\n",
    "print(b)\n",
    "print(b.dtype)"
   ]
  },
  {
   "cell_type": "code",
   "execution_count": 10,
   "metadata": {},
   "outputs": [
    {
     "name": "stdout",
     "output_type": "stream",
     "text": [
      "(2, 3, 4)\n"
     ]
    },
    {
     "data": {
      "text/plain": [
       "array([[[ 0,  1,  2,  3],\n",
       "        [ 4,  5,  6,  7],\n",
       "        [ 8,  9, 10, 11]],\n",
       "\n",
       "       [[12, 13, 14, 15],\n",
       "        [16, 17, 18, 19],\n",
       "        [20, 21, 22, 23]]])"
      ]
     },
     "execution_count": 10,
     "metadata": {},
     "output_type": "execute_result"
    }
   ],
   "source": [
    "a = np.arange(24).reshape((2,3,4))\n",
    "print(a.shape)\n",
    "a"
   ]
  },
  {
   "cell_type": "code",
   "execution_count": 11,
   "metadata": {},
   "outputs": [
    {
     "name": "stdout",
     "output_type": "stream",
     "text": [
      "[[ 6]\n",
      " [18]]\n",
      "\n",
      "[1 5 9]\n",
      "\n",
      "[[[ 0  1  2  3]\n",
      "  [ 4  5  6  7]\n",
      "  [ 8  9 10 11]]\n",
      "\n",
      " [[12 13 14 15]\n",
      "  [16 17 18 19]\n",
      "  [20 21 22 23]]]\n"
     ]
    }
   ],
   "source": [
    "print(a[:,1:2,2])\n",
    "print('')\n",
    "print(a[0,:,1])\n",
    "print('')\n",
    "print(a[:])"
   ]
  },
  {
   "cell_type": "code",
   "execution_count": 12,
   "metadata": {},
   "outputs": [
    {
     "name": "stdout",
     "output_type": "stream",
     "text": [
      "[('id', 'U20'), ('x', 'i8'), ('y', 'int16'), ('ra', 'f8'), ('dec', 'float16')]\n"
     ]
    }
   ],
   "source": [
    "import random\n",
    "dataHeaders = \" id  x     y ra     dec\".split()\n",
    "dataTypes   = \"U20 i8 int16 f8 float16\".split()\n",
    "todo = [(header, type) for header, type in zip(dataHeaders, dataTypes)]\n",
    "dataType = np.dtype(todo);print(todo)\n",
    "\n",
    "# generate data to read\n",
    "outputList = []\n",
    "for i in range(10):\n",
    "    outputList.append(\"{:10} {:10d} {:10d} {:10f} {:10f}\".\n",
    "        format(np.random.randint(9999),\n",
    "               np.random.randint(9999),\n",
    "               np.random.randint(9999),\n",
    "               np.random.rand(),\n",
    "               np.random.rand()))\n",
    "with open('./temp.dat', 'w') as f:\n",
    "    f.write('\\n'.join(outputList))"
   ]
  },
  {
   "cell_type": "code",
   "execution_count": 13,
   "metadata": {},
   "outputs": [
    {
     "data": {
      "text/plain": [
       "array([(u'231', 1174,   38,  0.172004,  0.85693359),\n",
       "       (u'9142', 1860, 7835,  0.724634,  0.88623047),\n",
       "       (u'963',  371,  511,  0.814943,  0.86669922),\n",
       "       (u'2767', 2651, 1679,  0.727648,  0.51513672),\n",
       "       (u'3734', 4386, 3404,  0.16071 ,  0.76904297),\n",
       "       (u'8096', 9604, 4940,  0.318443,  0.91552734),\n",
       "       (u'9601', 8108, 5657,  0.49393 ,  0.80175781),\n",
       "       (u'8778', 2656, 1943,  0.686984,  0.04711914),\n",
       "       (u'610', 2702, 6457,  0.409797,  0.2902832 ),\n",
       "       (u'7534', 2779, 8248,  0.334703,  0.08410645)],\n",
       "      dtype=[('id', '<U20'), ('x', '<i8'), ('y', '<i2'), ('ra', '<f8'), ('dec', '<f2')])"
      ]
     },
     "execution_count": 13,
     "metadata": {},
     "output_type": "execute_result"
    }
   ],
   "source": [
    "# load it use np.loadtxt\n",
    "data = np.loadtxt('./temp.dat', dtype=dataType)\n",
    "data"
   ]
  },
  {
   "cell_type": "code",
   "execution_count": 14,
   "metadata": {},
   "outputs": [
    {
     "name": "stdout",
     "output_type": "stream",
     "text": [
      "[('231', '1174', '38', '0.172004', '0.856956'),\n",
      " ('9142', '1860', '7835', '0.724634', '0.886277'),\n",
      " ('963', '371', '511', '0.814943', '0.866906'),\n",
      " ('2767', '2651', '1679', '0.727648', '0.514914'),\n",
      " ('3734', '4386', '3404', '0.160710', '0.769198'),\n",
      " ('8096', '9604', '4940', '0.318443', '0.915318'),\n",
      " ('9601', '8108', '5657', '0.493930', '0.801699'),\n",
      " ('8778', '2656', '1943', '0.686984', '0.047127'),\n",
      " ('610', '2702', '6457', '0.409797', '0.290370'),\n",
      " ('7534', '2779', '8248', '0.334703', '0.084105')]\n"
     ]
    },
    {
     "data": {
      "text/plain": [
       "array([(u'231', 1174,   38,  0.172004,  0.85693359),\n",
       "       (u'9142', 1860, 7835,  0.724634,  0.88623047),\n",
       "       (u'963',  371,  511,  0.814943,  0.86669922),\n",
       "       (u'2767', 2651, 1679,  0.727648,  0.51513672),\n",
       "       (u'3734', 4386, 3404,  0.16071 ,  0.76904297),\n",
       "       (u'8096', 9604, 4940,  0.318443,  0.91552734),\n",
       "       (u'9601', 8108, 5657,  0.49393 ,  0.80175781),\n",
       "       (u'8778', 2656, 1943,  0.686984,  0.04711914),\n",
       "       (u'610', 2702, 6457,  0.409797,  0.2902832 ),\n",
       "       (u'7534', 2779, 8248,  0.334703,  0.08410645)],\n",
       "      dtype=[('id', '<U20'), ('x', '<i8'), ('y', '<i2'), ('ra', '<f8'), ('dec', '<f2')])"
      ]
     },
     "execution_count": 14,
     "metadata": {},
     "output_type": "execute_result"
    }
   ],
   "source": [
    "import pprint\n",
    "# load it manually\n",
    "dataList = []\n",
    "with open('./temp.dat') as f:\n",
    "    for eachline in f:\n",
    "        eachRow = tuple(eachline.split())\n",
    "        dataList.append(eachRow)\n",
    "pprint.pprint(dataList)\n",
    "data = np.array(dataList, dtype=dataType)\n",
    "data"
   ]
  },
  {
   "cell_type": "code",
   "execution_count": 15,
   "metadata": {},
   "outputs": [
    {
     "name": "stdout",
     "output_type": "stream",
     "text": [
      "[('id', 'U20'), ('obj', 'object')]\n"
     ]
    },
    {
     "data": {
      "text/plain": [
       "array([(u'list', list([1, 2, 3])), (u'dict', {1: 1, 2: 2}),\n",
       "       (u'tuple', (1, 2, 3)), (u'another ndarray', array([1, 2, 3, 4])),\n",
       "       (u'any thing', <module 'numpy' from '/usr/local/lib/python2.7/site-packages/numpy/__init__.pyc'>)],\n",
       "      dtype=[('id', '<U20'), ('obj', 'O')])"
      ]
     },
     "execution_count": 15,
     "metadata": {},
     "output_type": "execute_result"
    }
   ],
   "source": [
    "dataHeaders = \" id    obj\".split()\n",
    "dataTypes   = \"U20 object\".split()\n",
    "todo = [(header, type) for header, type in zip(dataHeaders, dataTypes)]\n",
    "dataType = np.dtype(todo);print(todo)\n",
    "\n",
    "rawData = [\n",
    "    ('list', [1,2,3]),\n",
    "    ('dict', {1:1, 2:2}),\n",
    "    ('tuple', (1,2,3)),\n",
    "    ('another ndarray', np.array([1,2,3,4])),\n",
    "    ('any thing', np),\n",
    "]\n",
    "\n",
    "newData = np.array(rawData, dtype=dataType)\n",
    "newData"
   ]
  },
  {
   "cell_type": "code",
   "execution_count": 16,
   "metadata": {},
   "outputs": [
    {
     "name": "stdout",
     "output_type": "stream",
     "text": [
      "[u'list' u'dict' u'tuple' u'another ndarray' u'any thing']\n",
      "[list([1, 2, 3]) {1: 1, 2: 2} (1, 2, 3) array([1, 2, 3, 4])\n",
      " <module 'numpy' from '/usr/local/lib/python2.7/site-packages/numpy/__init__.pyc'>]\n"
     ]
    }
   ],
   "source": [
    "print(newData['id'])\n",
    "print(newData['obj'])"
   ]
  },
  {
   "cell_type": "markdown",
   "metadata": {},
   "source": [
    "# Cautions about python3, encoding"
   ]
  },
  {
   "cell_type": "code",
   "execution_count": 17,
   "metadata": {},
   "outputs": [
    {
     "name": "stdout",
     "output_type": "stream",
     "text": [
      "你好\n",
      "你好\n",
      "你好\n",
      "('\\xe4\\xbd\\xa0\\xe5\\xa5\\xbd', u'\\u4f60\\u597d', u'\\u4f60\\u597d', '\\xe4\\xbd\\xa0\\xe5\\xa5\\xbd')\n"
     ]
    }
   ],
   "source": [
    "a = '你好'\n",
    "b = u'你好'\n",
    "c = a.decode('utf8')\n",
    "print(a)\n",
    "print(b)\n",
    "print(c)\n",
    "print((a,b,c,c.encode('utf8')))"
   ]
  },
  {
   "cell_type": "markdown",
   "metadata": {},
   "source": [
    "# freestyle to learn python package\n",
    "\n",
    "* document\n",
    "* jupyter + notebook or ipython\n",
    "* make your own notes or snippets"
   ]
  },
  {
   "cell_type": "markdown",
   "metadata": {},
   "source": [
    "# Debug"
   ]
  },
  {
   "cell_type": "markdown",
   "metadata": {},
   "source": [
    "    import pdb\n",
    "    pdb.set_trace()\n",
    "\n",
    "    import ipdb\n",
    "    ipdb.set_trace()"
   ]
  }
 ],
 "metadata": {
  "kernelspec": {
   "display_name": "Python 2",
   "language": "python",
   "name": "python2"
  },
  "language_info": {
   "codemirror_mode": {
    "name": "ipython",
    "version": 2
   },
   "file_extension": ".py",
   "mimetype": "text/x-python",
   "name": "python",
   "nbconvert_exporter": "python",
   "pygments_lexer": "ipython2",
   "version": "2.7.10"
  }
 },
 "nbformat": 4,
 "nbformat_minor": 1
}
