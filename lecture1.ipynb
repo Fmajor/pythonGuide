{
 "cells": [
  {
   "cell_type": "markdown",
   "metadata": {},
   "source": [
    "# Python Guide"
   ]
  },
  {
   "cell_type": "markdown",
   "metadata": {},
   "source": [
    "## Understand Programing\n",
    "\n",
    "### The Conceptual Architecture of OS\n",
    "<img src=\"./figs/0.png\" width=\"800\">\n",
    "<img src=\"./figs/1.png\" width=\"400\">"
   ]
  },
  {
   "cell_type": "markdown",
   "metadata": {},
   "source": [
    "* Conception:\n",
    "    * **UI(User Interface)**: directly interact with you\n",
    "    * **GUI**: Graphic UI\n",
    "    * **CUI**: Command UI\n",
    "    * **Shell**: Command sender between UI and OS\n",
    "\n",
    "### How you play with a computer?\n",
    "* Windows: \"Windows\"(GUI) => command through shell => OS => Hardware\n",
    "* Linux Desktop:\n",
    "    * \"Window Server(Gnome, X server...)\"(GUI) => command through shell => OS => Hardware\n",
    "    * \"Terminal\"(GUI) => \"bash\"(CUI) => command through shell => OS => Hardware\n",
    "* Linux Server: Shell(CUI) => command through shell => OS => Hardware\n",
    "\n",
    "**your action** => command through shell => OS => Hardware"
   ]
  },
  {
   "cell_type": "markdown",
   "metadata": {},
   "source": [
    "### static and dynamic\n",
    "* Conception:\n",
    "    * IDE: Integrated Development Environment\n",
    "    * Compiler: translate source code to binary hardware code for static language\n",
    "    * linker: link the function for static language\n",
    "    * Interpreter: translate source code to binary hardware code, handle the runtime environment for a static language\n",
    "* **program of a static language**:\n",
    "    * example: C, C++, Fortarn, Go\n",
    "    * feature:\n",
    "        * You must express the type of each variable, constant and array\n",
    "        * You must handle the allocate and release of memory\n",
    "    * must \"Compile\" and \"link\" to a Binary file\n",
    "        * Compile: translate the source code line by line to the hardware code\n",
    "        * Link: find the location of all function calls (if they are not in the source code)\n",
    "    * run:\n",
    "        * The GUI or CUI tell the shell to load the file to memory, and the CPU to run the hardware code directly\n",
    "    * pros:\n",
    "        * run fast\n",
    "        * control of memory\n",
    "        * most error are found in the Compile step (not in runtime) by the compiler\n",
    "        * easy for a IDE to do Code Analyzer\n",
    "    * cons:\n",
    "        * write slow\n",
    "        * be crazy to control the type and allocation of memory\n",
    "* **program of a dynamic language**:\n",
    "    * example: Python, R, Matlab, Javascript\n",
    "    * feature:\n",
    "        * type is dynamic and implicit\n",
    "        * memory allocation is automatic\n",
    "    * no need to \"Compile\"\n",
    "    * run:\n",
    "        * The GUI or CUI tell the shell to open the Interpreter\n",
    "        * The Interpreter init a runtime environment\n",
    "        * The Interpreter load the source code and translate it to hardware code line by line, send it to CPU\n",
    "        * The Interpreter handle the memory allocation\n",
    "    * pros:\n",
    "        * write fast\n",
    "        * interactive mode (console), easy for debug\n",
    "    * cons:\n",
    "        * hard for a IDE to do Code Analyzer (e.g. High CPU and Memory use of Pycharm(IDE) to do Code in real time)\n",
    "        * most error appear at runtime, waste time in debug\n",
    "* **java**:\n",
    "    * feature:\n",
    "        * the compiler compile the source code into Java Visual Machine Language (*.jar)\n",
    "        * the Java Visual Machine run *.jar directly\n",
    "    * take advance of both the static language and dynamic language\n",
    "    * one more layer(VM), performance..."
   ]
  },
  {
   "cell_type": "markdown",
   "metadata": {},
   "source": [
    "## Object Oriented Programing and Procedure Oriented Programing\n",
    "* **Procedure Oriented Programing**：\n",
    "    * translate of each step\n",
    "* **Object Oriented Programing**：\n",
    "    * Every thing is a Object\n",
    "    * Object have its own **Properties** and **method**\n",
    "    * init a Object and let it do the things\n",
    "    \n",
    "### Example of a dog\n",
    "* class Animal:\n",
    "    * properties: kind, birthday\n",
    "    * method: say()\n",
    "* class Dog(Animal):\n",
    "    * properties: nickName\n",
    "    * method: say () => print('woof')\n",
    "    * init: kind = dog\n",
    "* class Cat(Animal):\n",
    "    * properties: nickName\n",
    "    * method: say () => print('miao')\n",
    "    * init: kind = cat\n",
    "* class Fox(Animal):\n",
    "    * properties: nickName\n",
    "    * method: say () => print('????')\n",
    "    * init: kind = fox\n",
    "    \n",
    "```\n",
    "xiaohei = Dog(nickName='xiaohei', birthday=xxxxxx)\n",
    "xiaohua = Cat(nickName='xiaohei', birthday=xxxxxx)\n",
    "heihei  = Fox(nickName='xiaohei', birthday=xxxxxx)\n",
    "\n",
    "print('xiaohei is a', xiaohei.kind, 'xiaohua is a', xiaohei.kind, 'heihei is a ', heihie.kind)\n",
    "\n",
    "xiaohei.say()\n",
    "xiaohua.say()\n",
    "heihei.say()\n",
    "```\n"
   ]
  },
  {
   "cell_type": "markdown",
   "metadata": {},
   "source": [
    "# Install and run python\n",
    "* python2 or python3?\n",
    "    * python2 will be abandoned in 2020\n",
    "    * use python3\n",
    "\n",
    "* How to \"run\" a python code?\n",
    "    * tell the Interpreter to load the source file\n",
    "* Python Interpreter:\n",
    "    * cpython(python): the default python interpreter, written by C\n",
    "    * jython: python interpreter written by java (and can integrate in java environment)\n",
    "    * ipython: better Exception highlight\n",
    "    * bpython: better code and struct autocomplete\n",
    "\n",
    "* IDEs\n",
    "    * [PyCharm](https://www.jetbrains.com/pycharm/)\n",
    "    * [Spyder](https://pythonhosted.org/spyder/index.html)\n",
    "    * [Anaconda](https://www.anaconda.com/)\n",
    "    * [Jupyter-notebook and Jupyter-lab](https://jupyter.org)\n",
    "\n",
    "## Install python\n",
    "* Windows: install PyCharm, Spyder or Anaconda, python is installed automatically\n",
    "* Linux:\n",
    "    * install PyCharm, Spyder or Anaconda, python is installed automatically\n",
    "    * apt install python3 python3-pip \n",
    "        * pip3 install ipython bpython jupyter jupyterlab\n",
    "* OSX:\n",
    "    * (install brew...)\n",
    "    * brew install python3 python3-pip \n",
    "        * pip3 install ipython bpython jupyter jupyterlab\n",
    "\n",
    "* **Task one: try the python console and print('Hello World') in all interpreter**\n",
    "    * Windows:\n",
    "        * open the ide and find the console and try it\n",
    "        * open jupyter lab and try it\n",
    "    * Unix: \n",
    "        * open the ide and find the console and try it\n",
    "        * open jupyter lab and try\n",
    "        * use python, ipython and bpython and try it\n",
    "* **Task two: write print('Hello World') to helloWorld.py and run it in all interpreter**   \n",
    "   \n",
    "**My Environment**\n",
    "* Vim+ipython for small project or working remotely\n",
    "* Pycharm for large project\n",
    "* jupyter for Scientific project with figure\n",
    "\n",
    "**You real should know all the environments**"
   ]
  },
  {
   "cell_type": "markdown",
   "metadata": {},
   "source": [
    "## Python version manager and Python Package manager\n",
    "* conception:\n",
    "    * environment variable: all variables of a shell\n",
    "        * try env command in a shell\n",
    "        * PATH: all directories to search for a command\n",
    "        * PYTHONPATH: additional directories to search for a python package\n",
    "    * try 'which python', 'which ipython' and 'which bpython'\n",
    "* in python\n",
    "```\n",
    "import sys\n",
    "print(sys.version)\n",
    "print(sys.path)\n",
    "```\n",
    "* sys.path:\n",
    "A list of strings that specifies the search path for modules. Initialized from the environment variable PYTHONPATH, plus an installation-dependent default.\n",
    "\n",
    "* **Task three: figure out which Python you are use, print the sys.path** \n",
    "    * windows: try to find it in the IDE setting window...\n",
    "    * Unix:\n",
    "        * try to find it in the IDE setting window...\n",
    "        * do it for python, ipython, bpython\n",
    "        \n",
    "## Different version or environment of python\n",
    "* new features: e.g. f'{formated} string' syntax in python >3.5\n",
    "* bugs in a higher version of python? use the lower version temporarily\n",
    "* install different version of package in different environment\n",
    "\n",
    "## python env manage\n",
    "* IDEs: try to find them in the IDE settings\n",
    "* Unix:\n",
    "    * [pyenv](https://github.com/pyenv/pyenv-installer)\n",
    "    * [conda](https://conda.io/docs/user-guide/install/download.html)\n",
    "## python package manage\n",
    "* IDEs: try to find them in the IDE settings\n",
    "* Unix:\n",
    "    * [pip](https://pypi.org/project/pip/): pip are bind to python executable\n",
    "    * [conda](https://conda.io/docs/user-guide/install/download.html)\n",
    "\n",
    "```\n",
    "# install pyenv\n",
    "cd\n",
    "git clone git://github.com/yyuu/pyenv.git .pyenv\n",
    "echo 'export PYENV_ROOT=\"$HOME/.pyenv\"' >> ~/.bashrc\n",
    "echo 'export PATH=\"$PYENV_ROOT/bin:$PATH\"' >> ~/.bashrc\n",
    "echo 'eval \"$(pyenv init -)\"' >> ~/.bashrc\n",
    "source ~/.bashrc\n",
    "\n",
    "# list of versions\n",
    "pyenv install --list\n",
    "# install 3.6.0 and 3.7.0\n",
    "pyenv install 3.6.0\n",
    "pyenv install 3.7.0\n",
    "pyenv versions\n",
    "# add virtual environment\n",
    "pyenv virtualenv 3.6.0 v360_0\n",
    "pyenv virtualenv 3.6.0 v360_1\n",
    "pyenv virtualenv 3.7.0 v370_0\n",
    "# switch between environment\n",
    "pyenv activate v360_0\n",
    "which python; which pip\n",
    "pyenv activate v360_1\n",
    "which python; which pip\n",
    "pyenv activate v370_0\n",
    "which python; which pip\n",
    "# pip basic usage\n",
    "pip search matplotlib\n",
    "pip install matplotlib\n",
    "pip uninstall matplotlib\n",
    "pip install matplotlib==2.0.0\n",
    "# in python and fetch the version\n",
    "import matplotlib\n",
    "print(matplotlib.__version__)\n",
    "```\n",
    "\n",
    "```\n",
    "# with conda\n",
    "... do it by yourself if you already use conda\n",
    "```\n",
    "### other ways to install a package\n",
    "```\n",
    "clone the package from github\n",
    "python setup.py build\n",
    "python setup.py install\n",
    "remember to use the right python environment\n",
    "```\n",
    "\n",
    "* **Task three: try to install different version of python and install different version of package** \n",
    "    * windows: try to find it in the IDE setting window...\n",
    "    * Unix:\n",
    "        * try to find it in the IDE setting window...\n",
    "        * do it use pyenv or conda\n"
   ]
  },
  {
   "cell_type": "markdown",
   "metadata": {},
   "source": [
    "## packages"
   ]
  },
  {
   "cell_type": "code",
   "execution_count": 2,
   "metadata": {},
   "outputs": [
    {
     "name": "stdout",
     "output_type": "stream",
     "text": [
      "The Zen of Python, by Tim Peters\n",
      "\n",
      "Beautiful is better than ugly.\n",
      "Explicit is better than implicit.\n",
      "Simple is better than complex.\n",
      "Complex is better than complicated.\n",
      "Flat is better than nested.\n",
      "Sparse is better than dense.\n",
      "Readability counts.\n",
      "Special cases aren't special enough to break the rules.\n",
      "Although practicality beats purity.\n",
      "Errors should never pass silently.\n",
      "Unless explicitly silenced.\n",
      "In the face of ambiguity, refuse the temptation to guess.\n",
      "There should be one-- and preferably only one --obvious way to do it.\n",
      "Although that way may not be obvious at first unless you're Dutch.\n",
      "Now is better than never.\n",
      "Although never is often better than *right* now.\n",
      "If the implementation is hard to explain, it's a bad idea.\n",
      "If the implementation is easy to explain, it may be a good idea.\n",
      "Namespaces are one honking great idea -- let's do more of those!\n"
     ]
    }
   ],
   "source": [
    "import this"
   ]
  },
  {
   "cell_type": "code",
   "execution_count": 3,
   "metadata": {},
   "outputs": [
    {
     "name": "stdout",
     "output_type": "stream",
     "text": [
      "0.841470984808\n",
      "0.841470984808\n",
      "0.841470984808\n"
     ]
    }
   ],
   "source": [
    "import numpy as np\n",
    "from numpy import sin\n",
    "import numpy\n",
    "print (np.sin(1))\n",
    "print (sin(1))\n",
    "print (numpy.sin(1))"
   ]
  },
  {
   "cell_type": "code",
   "execution_count": 4,
   "metadata": {},
   "outputs": [
    {
     "name": "stdout",
     "output_type": "stream",
     "text": [
      "['', '/Users/wujinnnnn/lib/pyLib', '/Users/wujinnnnn/lib/pyLib/fmajorUtils', '/Users/wujinnnnn/sourceCode/githubs/pythonGuide', '/usr/local/Cellar/python/3.6.5/Frameworks/Python.framework/Versions/3.6/lib/python36.zip', '/usr/local/Cellar/python/3.6.5/Frameworks/Python.framework/Versions/3.6/lib/python3.6', '/usr/local/Cellar/python/3.6.5/Frameworks/Python.framework/Versions/3.6/lib/python3.6/lib-dynload', '/usr/local/lib/python3.6/site-packages', '/usr/local/lib/python3.6/site-packages/aeosa', '/usr/local/lib/python3.6/site-packages/pyfits-3.4-py3.6-macosx-10.11-x86_64.egg', '/usr/local/lib/python3.6/site-packages/ipdb-0.10.3-py3.6.egg', '/usr/local/lib/python3.6/site-packages/colorama-0.3.9-py3.6.egg', '/Users/wujinnnnn/sourceCode/githubs/ItChat', '/usr/local/lib/python3.6/site-packages/ptpip-0.1.1-py3.6.egg', '/Users/wujinnnnn/sourceCode/githubs/fmajorAstroTools', '/usr/local/lib/python3.6/site-packages', '/Library/Python/3.6/site-packages', '/usr/local/lib/python3.6/site-packages/IPython/extensions', '/Users/wujinnnnn/.ipython']\n"
     ]
    },
    {
     "ename": "ModuleNotFoundError",
     "evalue": "No module named 'blabla'",
     "output_type": "error",
     "traceback": [
      "\u001b[0;31m---------------------------------------------------------------------------\u001b[0m",
      "\u001b[0;31mModuleNotFoundError\u001b[0m                       Traceback (most recent call last)",
      "\u001b[0;32m<ipython-input-4-8a270514bf88>\u001b[0m in \u001b[0;36m<module>\u001b[0;34m()\u001b[0m\n\u001b[1;32m      2\u001b[0m \u001b[0;32mimport\u001b[0m \u001b[0mos\u001b[0m\u001b[0;34m\u001b[0m\u001b[0m\n\u001b[1;32m      3\u001b[0m \u001b[0mprint\u001b[0m\u001b[0;34m(\u001b[0m\u001b[0msys\u001b[0m\u001b[0;34m.\u001b[0m\u001b[0mpath\u001b[0m\u001b[0;34m)\u001b[0m\u001b[0;34m\u001b[0m\u001b[0m\n\u001b[0;32m----> 4\u001b[0;31m \u001b[0;32mimport\u001b[0m \u001b[0mblabla\u001b[0m\u001b[0;34m\u001b[0m\u001b[0m\n\u001b[0m",
      "\u001b[0;31mModuleNotFoundError\u001b[0m: No module named 'blabla'"
     ]
    }
   ],
   "source": [
    "import sys\n",
    "import os\n",
    "print(sys.path)\n",
    "import blabla"
   ]
  },
  {
   "cell_type": "markdown",
   "metadata": {},
   "source": [
    "### $PYTHONPATH in shell is add into search directory of python"
   ]
  },
  {
   "cell_type": "markdown",
   "metadata": {},
   "source": [
    "├── a.py\n",
    "\n",
    "├── bb.py\n",
    "\n",
    "├── main.py\n",
    "\n",
    "└── module1\n",
    "\n",
    "    ├── aa.py\n",
    "    ├── bb.py\n",
    "    └── __init__.py\n",
    "    \n",
    "#======= main.py =========\n",
    "``` python\n",
    "print(\"in main.py\")\n",
    "import a\n",
    "import a\n",
    "from a import afunc\n",
    "import module1\n",
    "from module1 import bb\n",
    "```\n",
    "#======= a.py =========\n",
    "``` python\n",
    "print(\"in a.py\")\n",
    "def afunc():\n",
    "    pass\n",
    "```\n",
    "#======= \\_\\_init\\_\\_.py ========\n",
    "``` python\n",
    "print(\"in module1.__init__\")\n",
    "from . import bb\n",
    "```\n",
    "#======= aa.py =========\n",
    "``` python\n",
    "print(\"in aa.py\")\n",
    "```\n",
    "#======= bb.py =========\n",
    "``` python\n",
    "print(\"in bb.py\")\n",
    "from . import aa\n",
    "```\n",
    "#======= module1/bb.py =========\n",
    "``` python\n",
    "print(\"in module1/bb.py\")\n",
    "from . import aa\n",
    "```"
   ]
  },
  {
   "cell_type": "markdown",
   "metadata": {},
   "source": [
    "```in main.py\n",
    "in a.py\n",
    "in module1.__init__\n",
    "in bb.py\n",
    "in aa.py```"
   ]
  },
  {
   "cell_type": "markdown",
   "metadata": {},
   "source": [
    "``` python\n",
    "# ipython -i main.py\n",
    "a.afunc()\n",
    "afunc()\n",
    "```\n",
    "globals()"
   ]
  },
  {
   "cell_type": "markdown",
   "metadata": {},
   "source": [
    "## Python data type"
   ]
  },
  {
   "cell_type": "code",
   "execution_count": null,
   "metadata": {},
   "outputs": [],
   "source": [
    "a = 1\n",
    "b = 1.0\n",
    "c = \"1\"\n",
    "d = [a, b, c, \"d\", 123, 124, [\"1\", \"2\", 2, {\"a\":\"a\"}]]\n",
    "e = {\"a\":a, \"b\":b, \"c\":c, \"d\": \"D\"}\n",
    "f = (a,b,c,e)\n",
    "print(a)\n",
    "print(b)\n",
    "print(c)\n",
    "print(d)\n",
    "print(e)\n",
    "print(f)"
   ]
  },
  {
   "cell_type": "markdown",
   "metadata": {},
   "source": [
    "### number"
   ]
  },
  {
   "cell_type": "code",
   "execution_count": null,
   "metadata": {},
   "outputs": [],
   "source": [
    "print (1)\n",
    "print (1231**123)\n",
    "print (123**43 % 100)\n",
    "print (1.0)"
   ]
  },
  {
   "cell_type": "markdown",
   "metadata": {},
   "source": [
    "### List"
   ]
  },
  {
   "cell_type": "code",
   "execution_count": null,
   "metadata": {},
   "outputs": [],
   "source": [
    "a = [1,2,3,4,5,6,7,8,9,10,11,12,13]\n",
    "print(a)"
   ]
  },
  {
   "cell_type": "markdown",
   "metadata": {},
   "source": [
    "#### slice"
   ]
  },
  {
   "cell_type": "code",
   "execution_count": null,
   "metadata": {},
   "outputs": [],
   "source": [
    "print (a[:])\n",
    "print (a[1])\n",
    "print (a[-1])\n",
    "print (a[1:])\n",
    "print (a[:-1])\n",
    "print (a[1:-1])\n",
    "print (a[2:5])\n",
    "print (a[0:6:2])\n",
    "print (a[::3])\n",
    "print (a[2:5:2])"
   ]
  },
  {
   "cell_type": "code",
   "execution_count": null,
   "metadata": {},
   "outputs": [],
   "source": [
    "#print a[:]\n",
    "print(a[slice(None)])\n",
    "#print a[1]\n",
    "print(a[slice(1)])\n",
    "#print a[-1]\n",
    "print(a[slice(-1)])\n",
    "#print a[1:]\n",
    "print(a[slice(1,None)])\n",
    "#print a[:-1]\n",
    "print(a[slice(None,-1)])\n",
    "#print a[1:-1]\n",
    "print(a[slice(1,-1)])\n",
    "#print a[2:5]\n",
    "print(a[slice(2,5)])\n",
    "#print a[0:6:2]\n",
    "print(a[slice(0,6,2)])\n",
    "#print a[::3]\n",
    "print(a[slice(None, None, 3)])\n",
    "#print a[2:5:2]\n",
    "print(a[slice(2,5,2)])"
   ]
  },
  {
   "cell_type": "code",
   "execution_count": null,
   "metadata": {},
   "outputs": [],
   "source": [
    "b = [1,2,3,4,5,6,7];c=[6,4,6,4,6,2,3,4]\n",
    "blabla = slice(2,5,2)\n",
    "print (a[2:5:2], b[2:5:2], c[2:5:2])\n",
    "print (a[blabla], b[blabla], c[blabla])"
   ]
  },
  {
   "cell_type": "code",
   "execution_count": null,
   "metadata": {},
   "outputs": [],
   "source": [
    "print (range(10))\n",
    "print (range(2,10))\n",
    "print (range(2,10,2))"
   ]
  },
  {
   "cell_type": "code",
   "execution_count": null,
   "metadata": {
    "collapsed": true
   },
   "outputs": [],
   "source": [
    "a = [1,3,5,7,9,\"6\",[7,8,9],10]"
   ]
  },
  {
   "cell_type": "markdown",
   "metadata": {},
   "source": [
    "```a.append   a.count    a.extend   a.index    a.insert   a.pop     a.remove   a.reverse  a.sort```"
   ]
  },
  {
   "cell_type": "code",
   "execution_count": null,
   "metadata": {},
   "outputs": [],
   "source": [
    "print (a)\n",
    "a.append(10)\n",
    "print (a)\n",
    "print (a.index(3))\n",
    "a.insert(0,\"hehe\")\n",
    "print (a)\n",
    "print (a.pop(4))\n",
    "print (a)\n",
    "print (a.pop())\n",
    "print (a)\n",
    "a.reverse()\n",
    "print (a)\n",
    "print (a[::-1])\n",
    "print (a)"
   ]
  },
  {
   "cell_type": "markdown",
   "metadata": {},
   "source": [
    "### tuple"
   ]
  },
  {
   "cell_type": "code",
   "execution_count": null,
   "metadata": {},
   "outputs": [],
   "source": [
    "a = (1,2,3)\n",
    "b = 1,2,3\n",
    "c = (1)\n",
    "d = (1,)\n",
    "f = 1,\n",
    "print(type(a), type(b), type(c), type(d), type(f))\n",
    "print(a,b,c,d,f)"
   ]
  },
  {
   "cell_type": "markdown",
   "metadata": {},
   "source": [
    "a.count  a.index"
   ]
  },
  {
   "cell_type": "code",
   "execution_count": null,
   "metadata": {},
   "outputs": [],
   "source": [
    "a = [1,2,3]\n",
    "b = 1,2,3\n",
    "a[1] = \"hehe\"\n",
    "print(a)\n",
    "b[1] = \"hehe\""
   ]
  },
  {
   "cell_type": "markdown",
   "metadata": {},
   "source": [
    "### pack and unpack"
   ]
  },
  {
   "cell_type": "code",
   "execution_count": null,
   "metadata": {},
   "outputs": [],
   "source": [
    "a=1;b=2;c=3\n",
    "d,e,f = b,c,a\n",
    "print(a,b,c,d,e,f)"
   ]
  },
  {
   "cell_type": "code",
   "execution_count": null,
   "metadata": {},
   "outputs": [],
   "source": [
    "a,b,c,d,(e,f) = 1, \"hehe\", \"lala\", 2.0, (54, 23)\n",
    "print (a)\n",
    "print (b)\n",
    "print (c)\n",
    "print (e)\n",
    "print (f)"
   ]
  },
  {
   "cell_type": "code",
   "execution_count": null,
   "metadata": {},
   "outputs": [],
   "source": [
    "todo = [1, \"hehe\", \"lala\", 2.0, (54, 23)]\n",
    "a,b,c,d,(e,f) = todo\n",
    "print (a)\n",
    "print (b)\n",
    "print (c)\n",
    "print (e)\n",
    "print (f)"
   ]
  },
  {
   "cell_type": "code",
   "execution_count": null,
   "metadata": {},
   "outputs": [],
   "source": [
    "a=1;b=2;\n",
    "a,b = b,a\n",
    "print(a,b)"
   ]
  },
  {
   "cell_type": "markdown",
   "metadata": {},
   "source": [
    "### list derivation"
   ]
  },
  {
   "cell_type": "markdown",
   "metadata": {},
   "source": [
    "#### str"
   ]
  },
  {
   "cell_type": "code",
   "execution_count": null,
   "metadata": {},
   "outputs": [],
   "source": [
    "a=1\n",
    "b=1.0\n",
    "c=[1,2,\"3\"]\n",
    "print(a, b, c)"
   ]
  },
  {
   "cell_type": "code",
   "execution_count": null,
   "metadata": {},
   "outputs": [],
   "source": [
    "aa = str(a)\n",
    "bb = str(b)\n",
    "cc = str(c)\n",
    "print(type(a), type(b), type(c))\n",
    "print(type(aa), type(bb), type(cc))\n",
    "print(aa, bb, cc)\n",
    "type(eval('1'))"
   ]
  },
  {
   "cell_type": "code",
   "execution_count": null,
   "metadata": {},
   "outputs": [],
   "source": [
    "a = \"123\"\n",
    "b = '456'\n",
    "c = a+b\n",
    "print(a)\n",
    "print(b)\n",
    "print(c)\n",
    "print(c + c)\n",
    "print(c * 4)"
   ]
  },
  {
   "cell_type": "markdown",
   "metadata": {},
   "source": [
    "### for"
   ]
  },
  {
   "cell_type": "code",
   "execution_count": null,
   "metadata": {},
   "outputs": [],
   "source": [
    "a = [1,2.0,\"3\", [4,5,6], {\"2\":5}]\n",
    "b = tuple(a)\n",
    "print(type(a), type(b))\n",
    "print(a,b)\n",
    "print(\"================\")\n",
    "for each in a:\n",
    "    print(each)\n",
    "print(\"================\")\n",
    "for each in b:\n",
    "    print(each)"
   ]
  },
  {
   "cell_type": "code",
   "execution_count": null,
   "metadata": {},
   "outputs": [],
   "source": [
    "a = range(10)\n",
    "b = []\n",
    "for blabla in a:\n",
    "    b.append(str(blabla))\n",
    "c = [str(each) for each in a]\n",
    "print(a)\n",
    "print(b)\n",
    "print(c)"
   ]
  },
  {
   "cell_type": "code",
   "execution_count": null,
   "metadata": {
    "scrolled": false
   },
   "outputs": [],
   "source": [
    "for i in range(20):\n",
    "    if i%2 == 0:\n",
    "        print(i)\n",
    "    else:\n",
    "        continue\n",
    "    print(i)\n",
    "    if i>10:\n",
    "        break"
   ]
  },
  {
   "cell_type": "code",
   "execution_count": null,
   "metadata": {},
   "outputs": [],
   "source": [
    "count = 0\n",
    "while (count < 9):\n",
    "   print('The count is:', count)\n",
    "   count = count + 1\n",
    "\n",
    "print(\"Good bye!\")"
   ]
  },
  {
   "cell_type": "code",
   "execution_count": null,
   "metadata": {},
   "outputs": [],
   "source": [
    "a = [1,3,5,7,9]\n",
    "b = [2,4,6,8,10]\n",
    "c = [str(eachA)+':'+str(eachB) for eachA in a for eachB in b]\n",
    "print(a)\n",
    "print(b)\n",
    "print(c)"
   ]
  },
  {
   "cell_type": "markdown",
   "metadata": {},
   "source": [
    "### String"
   ]
  },
  {
   "cell_type": "code",
   "execution_count": null,
   "metadata": {},
   "outputs": [],
   "source": [
    "a = \"12312312\"\n",
    "b = \", df\"\n",
    "c = \"\\thehe\\n\"\n",
    "print(a)\n",
    "print(c)\n",
    "print(b)\n",
    "print(a + b)"
   ]
  },
  {
   "cell_type": "code",
   "execution_count": null,
   "metadata": {
    "collapsed": true
   },
   "outputs": [],
   "source": [
    "a = str(123456789)\n",
    "aa = \"123456789\""
   ]
  },
  {
   "cell_type": "markdown",
   "metadata": {},
   "source": [
    "```aa.capitalize  aa.decode      aa.expandtabs  aa.index       aa.isdigit     aa.istitle     aa.ljust       aa.partition   aa.rindex      aa.rsplit      aa.splitlines  aa.swapcase    aa.upper\n",
    "aa.center      aa.encode      aa.find        aa.isalnum     aa.islower     aa.isupper     aa.lower       aa.replace     aa.rjust       aa.rstrip      aa.startswith  aa.title       aa.zfill\n",
    "aa.count       aa.endswith    aa.format      aa.isalpha     aa.isspace     aa.join        aa.lstrip      aa.rfind       aa.rpartition  aa.split       aa.strip       aa.translate```"
   ]
  },
  {
   "cell_type": "code",
   "execution_count": null,
   "metadata": {},
   "outputs": [],
   "source": [
    "print(aa[1:-1])\n",
    "print(aa.index('6'))\n",
    "print(aa.isdigit())\n",
    "print(aa.isalpha())"
   ]
  },
  {
   "cell_type": "code",
   "execution_count": null,
   "metadata": {},
   "outputs": [],
   "source": [
    "a = \"   asdf   asfd    \"\n",
    "print(a)\n",
    "print(a.strip())"
   ]
  },
  {
   "cell_type": "code",
   "execution_count": null,
   "metadata": {},
   "outputs": [],
   "source": [
    "a = range(10)\n",
    "b = [str(each) for each in a] # pythonic\n",
    "print(a)\n",
    "print(type(b), b, str(b))\n",
    "c = \", \"\n",
    "d = c.join(b)\n",
    "print(type(d), d)"
   ]
  },
  {
   "cell_type": "code",
   "execution_count": null,
   "metadata": {
    "scrolled": true
   },
   "outputs": [],
   "source": [
    "a = '1, 2, 3, 4, 5, 6, 7'\n",
    "print (a.split())\n",
    "print (a.split(\" \"))\n",
    "print (a.split(\",\"))\n",
    "print (a.split(\", \"))\n",
    "print (a.split('4, 5'))\n",
    "print (a.split(\"fds\"))"
   ]
  },
  {
   "cell_type": "markdown",
   "metadata": {},
   "source": [
    "### \\\\"
   ]
  },
  {
   "cell_type": "code",
   "execution_count": null,
   "metadata": {},
   "outputs": [],
   "source": [
    "a = \"abc123\"; print (a)\n",
    "a = \"abc\\\"123\"; print (a)\n",
    "a = \"abc\\\\123\"; print (a)\n",
    "a = \"abc\\\\\\\\123\"; print (a)\n",
    "a = \"\\\\bhi\\\\b.*\\\\bLucy\\\\b\"; print (a)\n",
    "a = \"0\\\\d\\\\d-\\\\d\\\\d\\\\d\\\\d\\\\d\\\\d\\\\d\\\\d\"; print (a)\n",
    "\n",
    "a = r\"abc\\123\"; print (a)\n",
    "a = r\"abc\\\"123\"; print (a)"
   ]
  },
  {
   "cell_type": "markdown",
   "metadata": {},
   "source": [
    "## Dict"
   ]
  },
  {
   "cell_type": "code",
   "execution_count": null,
   "metadata": {},
   "outputs": [],
   "source": [
    "a = {\"a\":1, \"b\":1.0, \"c\": \"1\", \"d\":[1,2,3], \"e\":{\"a\":2}}\n",
    "print (a)\n",
    "print (a[\"a\"])\n",
    "print (a[\"d\"][1])\n",
    "print (a[\"e\"][\"a\"])"
   ]
  },
  {
   "cell_type": "markdown",
   "metadata": {},
   "source": [
    "```a.clear       a.fromkeys    a.has_key     a.iteritems   a.itervalues  a.pop         a.setdefault  a.values      a.viewkeys\n",
    "a.copy        a.get         a.items       a.iterkeys    a.keys        a.popitem     a.update      a.viewitems   a.viewvalues```"
   ]
  },
  {
   "cell_type": "code",
   "execution_count": null,
   "metadata": {},
   "outputs": [],
   "source": [
    "# dict has no order\n",
    "a = {\"a\":1, \"b\":1.0, \"c\": \"1\", \"d\":[1,2,3], \"e\":{\"a\":2}}\n",
    "print (a.keys())\n",
    "print (a.pop(\"b\"))\n",
    "print (a.values())\n",
    "a.update({\"f\":\"hehe\", \"a\":0})\n",
    "print (a)"
   ]
  },
  {
   "cell_type": "code",
   "execution_count": null,
   "metadata": {
    "scrolled": true
   },
   "outputs": [],
   "source": [
    "a = {\"a\":1, \"b\":2}\n",
    "print(a[\"a\"])\n",
    "print(a[\"c\"])"
   ]
  },
  {
   "cell_type": "markdown",
   "metadata": {},
   "source": [
    "### If"
   ]
  },
  {
   "cell_type": "code",
   "execution_count": null,
   "metadata": {},
   "outputs": [],
   "source": [
    "a = 0\n",
    "b = 1\n",
    "c = 1.0\n",
    "d = \"asdf\"\n",
    "f = \"\"\n",
    "g = None\n",
    "h = [1,2,3]\n",
    "\n",
    "if a>0:\n",
    "    print (\"a>0\")\n",
    "else:\n",
    "    print (\"a<=0\")\n",
    "    \n",
    "if a>0:\n",
    "    print (\"a>0\")\n",
    "elif a==0:\n",
    "    print (\"a==0\")\n",
    "else:\n",
    "    print (\"a<0\")\n",
    "\n",
    "if not a:\n",
    "    print (\"a is False\")\n",
    "    \n",
    "if b:\n",
    "    print (\"b is True\")\n",
    "\n",
    "if c:\n",
    "    print (\"c is True\")\n",
    "if d:\n",
    "    print (\"d is True\")\n",
    "if not f:\n",
    "    print (\"f is False\")\n",
    "if g is None:\n",
    "    print (\"g is None\")\n",
    "else:\n",
    "    print (\"g is not None\")\n",
    "\n",
    "if len(h):\n",
    "    print (\"len(h)!=0\")\n",
    "else:\n",
    "    print (\"len(h)==0\")"
   ]
  },
  {
   "cell_type": "code",
   "execution_count": null,
   "metadata": {},
   "outputs": [],
   "source": [
    "a = {\"a\":1, \"b\":2}\n",
    "print (a.get(\"a\", \"lalala\"))\n",
    "print (a.get(\"c\", \"lalala\"))\n",
    "d = a.get(\"c\")\n",
    "if d is None:\n",
    "    print (\"d is None\")"
   ]
  },
  {
   "cell_type": "code",
   "execution_count": null,
   "metadata": {},
   "outputs": [],
   "source": [
    "a = {\"a\":1, \"b\":2.0, \"c\":\"hehe\", \"d\":5}\n",
    "for eachKey in a:\n",
    "    print (\"a[\", eachKey, \"]=\", a[eachKey])\n",
    "print (\"===========================\")\n",
    "print (a.keys())\n",
    "print (\"===========================\")\n",
    "for eachKey in a.keys():\n",
    "    print (\"a[\", eachKey, \"]=\", a[eachKey]) "
   ]
  },
  {
   "cell_type": "markdown",
   "metadata": {},
   "source": [
    "## memory use"
   ]
  },
  {
   "cell_type": "code",
   "execution_count": null,
   "metadata": {
    "collapsed": true
   },
   "outputs": [],
   "source": [
    "a = range(100000000)"
   ]
  },
  {
   "cell_type": "code",
   "execution_count": null,
   "metadata": {},
   "outputs": [],
   "source": [
    "b = a\n",
    "print(id(a), id(b))"
   ]
  },
  {
   "cell_type": "code",
   "execution_count": null,
   "metadata": {},
   "outputs": [],
   "source": [
    "c=1\n",
    "d=c\n",
    "print(id(c), id(d))\n",
    "c = 2\n",
    "print(id(c), id(d))\n",
    "print(c,d)"
   ]
  },
  {
   "cell_type": "code",
   "execution_count": null,
   "metadata": {},
   "outputs": [],
   "source": [
    "a = [1,2,3]\n",
    "b = [1,2,3]\n",
    "a.reverse()\n",
    "print(id(a), id(b))\n",
    "print(a, b)\n",
    "a = [1,2,3]\n",
    "b = a\n",
    "b.reverse()\n",
    "print(id(a), id(b))\n",
    "print(a, b)"
   ]
  },
  {
   "cell_type": "code",
   "execution_count": null,
   "metadata": {},
   "outputs": [],
   "source": [
    "import copy\n",
    "a = [1,2,3]\n",
    "b = copy.copy(a)\n",
    "print(id(a), id(b))\n",
    "print(a, b)\n",
    "b.reverse()\n",
    "print(a, b)"
   ]
  },
  {
   "cell_type": "markdown",
   "metadata": {},
   "source": [
    "## function (is very fancy)"
   ]
  },
  {
   "cell_type": "code",
   "execution_count": null,
   "metadata": {
    "scrolled": true
   },
   "outputs": [],
   "source": [
    "def f0():\n",
    "    return\n",
    "def f1():\n",
    "    pass\n",
    "def f2(a,b,c):\n",
    "    return a+b+c\n",
    "\n",
    "a0 = f0()\n",
    "a = f1()\n",
    "b = f2(1,2,3)\n",
    "d = f2(\"1\",\"2\",\"3\")\n",
    "\n",
    "print(a0,a,b,d)\n",
    "e = f2(1,2,\"3\")\n"
   ]
  },
  {
   "cell_type": "code",
   "execution_count": null,
   "metadata": {},
   "outputs": [],
   "source": [
    "def f0(a, b=123):\n",
    "    print(a,b)\n",
    "    \n",
    "def f1(a=1, b=1):\n",
    "    print(a,b)\n",
    "    \n",
    "f0(1)\n",
    "f0(1,2)\n",
    "f1()\n",
    "f1(10)\n",
    "f1(10,20)\n",
    "f1(b=10)\n",
    "f1(1,2,3)"
   ]
  },
  {
   "cell_type": "code",
   "execution_count": null,
   "metadata": {},
   "outputs": [],
   "source": [
    "def f0(a, *args):\n",
    "    print(a, args)\n",
    "f0(1)\n",
    "f0(1,2)\n",
    "f0(1,2,3,4,5,6,7,8,9)"
   ]
  },
  {
   "cell_type": "code",
   "execution_count": null,
   "metadata": {},
   "outputs": [],
   "source": [
    "def f0(a, *args, **kwargs):\n",
    "    print(a, args, kwargs)\n",
    "f0(1)\n",
    "f0(1, 2)\n",
    "f0(1, 2, b=1)\n",
    "f0(1, 2,3,4,5, b=1, c=\"hehe\", asdf=\"adfasdf\")\n",
    "\n",
    "# f0(1, 2,3, c=\"hehe\", 4,5, b=1, asdf=\"adfasdf\")\n",
    "# SyntaxError: non-keyword arg after keyword arg"
   ]
  },
  {
   "cell_type": "code",
   "execution_count": null,
   "metadata": {},
   "outputs": [],
   "source": [
    "def f0(a, *, b=1):\n",
    "    print(a, b)\n",
    "f0(1)\n",
    "f0(1, b=2)\n",
    "f0(1, 2)"
   ]
  },
  {
   "cell_type": "markdown",
   "metadata": {},
   "source": [
    "## Class"
   ]
  },
  {
   "cell_type": "code",
   "execution_count": null,
   "metadata": {},
   "outputs": [],
   "source": [
    "class Dog():\n",
    "    def __init__(self, name=\"Dog\", age=\"1\"):\n",
    "        self.name = name\n",
    "        self.age = age\n",
    "    \n",
    "    def shout(self):\n",
    "        print(\"Wang, wang, wang. I am {}\".format(self.name))\n",
    "    \n",
    "    def __str__(self):\n",
    "        return \"Dog: name is {}\".format(self.name)\n",
    "\n",
    "\n",
    "gou = Dog()\n",
    "xiaohei = Dog(\"xiaohei\")\n",
    "xiaobai = Dog(\"xiaobai\", age=2)\n",
    "\n",
    "gou.shout()\n",
    "print(gou.name, gou.age)\n",
    "xiaohei.shout()\n",
    "print(xiaohei.name, xiaohei.age)\n",
    "xiaobai.shout()\n",
    "print(xiaobai.name, xiaobai.age)\n",
    "\n",
    "t = str(xiaohei)\n",
    "print(t)\n",
    "print(xiaohei.__str__())"
   ]
  },
  {
   "cell_type": "code",
   "execution_count": null,
   "metadata": {},
   "outputs": [],
   "source": [
    "class VariableStar():\n",
    "    def __init__(self, values, name=\"000\"):\n",
    "        self.pairs = values\n",
    "        self.name  = name\n",
    "        self.times = [each[0] for each in values]\n",
    "        self.flux = [each[1] for each in values]\n",
    "    \n",
    "    def __getitem__(self, key):\n",
    "        return self.flux[key]\n",
    "    \n",
    "    def __len__(self):\n",
    "        return len(self.pairs)\n",
    "   \n",
    "import time\n",
    "import random\n",
    "def getTimeStr(t):\n",
    "    return time.strftime(\"%Y-%m-%dT%H:%M:%S\", time.gmtime(t))\n",
    "\n",
    "a = [(getTimeStr(eachTime+time.time()) ,100+random.random()) for eachTime in range(-60*20, 0, 60)]\n",
    "print(a)\n",
    "\n",
    "s1 = VariableStar(a)\n",
    "print (\"====================================\")\n",
    "print (s1.times)\n",
    "print (s1.flux)\n",
    "print (s1[2:5])\n",
    "print (len(a))\n",
    "print (len(s1))"
   ]
  },
  {
   "cell_type": "markdown",
   "metadata": {},
   "source": [
    "### iterator"
   ]
  },
  {
   "cell_type": "code",
   "execution_count": null,
   "metadata": {},
   "outputs": [],
   "source": [
    "a = range(10)\n",
    "aa = a.__iter__()\n",
    "print(type(a), type(aa))\n",
    "for i in a:\n",
    "    print(i)\n",
    "print(\"===========================\")\n",
    "for i in aa:\n",
    "    print(i)"
   ]
  },
  {
   "cell_type": "code",
   "execution_count": null,
   "metadata": {},
   "outputs": [],
   "source": [
    "a = range(5)\n",
    "aa = a.__iter__()\n",
    "print (a)\n",
    "print (type(a), type(aa))\n",
    "print (next(aa))\n",
    "print (next(aa))\n",
    "print (next(aa))\n",
    "print (next(aa))\n",
    "print (next(aa))\n",
    "print (next(aa))"
   ]
  },
  {
   "cell_type": "markdown",
   "metadata": {},
   "source": [
    "## try/catch/else"
   ]
  },
  {
   "cell_type": "markdown",
   "metadata": {},
   "source": [
    "http://www.runoob.com/python/python-exceptions.html"
   ]
  },
  {
   "cell_type": "code",
   "execution_count": null,
   "metadata": {},
   "outputs": [],
   "source": [
    "try:\n",
    "    a = int(\"123\")\n",
    "except ValueError as e:\n",
    "    print(\"have error\")\n",
    "    print(e)\n",
    "else:\n",
    "    print(\"no error\")\n",
    "print(\"i am here\", a)"
   ]
  },
  {
   "cell_type": "code",
   "execution_count": null,
   "metadata": {},
   "outputs": [],
   "source": [
    "try:\n",
    "    a = int(\"123a\")\n",
    "except ValueError as e:\n",
    "    print (\"have error\")\n",
    "    print (e)\n",
    "else:\n",
    "    print (\"no error\")\n",
    "print (\"i am here\")"
   ]
  },
  {
   "cell_type": "markdown",
   "metadata": {},
   "source": [
    "## File"
   ]
  },
  {
   "cell_type": "code",
   "execution_count": null,
   "metadata": {},
   "outputs": [],
   "source": [
    "cat testFile.txt"
   ]
  },
  {
   "cell_type": "code",
   "execution_count": null,
   "metadata": {},
   "outputs": [],
   "source": [
    "f = open(\"testFile.txt\", \"r\")\n",
    "# f.readlines()\n",
    "# f.read\n",
    "for eachLine in f:\n",
    "    print(eachLine)\n",
    "f = open(\"testFile.txt\", \"r\")\n",
    "for i, eachLine in enumerate(f):\n",
    "    print(\"line {} is {}\".format(i, eachLine[:-1]))\n",
    "f.close()"
   ]
  },
  {
   "cell_type": "code",
   "execution_count": null,
   "metadata": {
    "scrolled": true
   },
   "outputs": [],
   "source": [
    "with open(\"outFile.txt\",'w') as f:\n",
    "    f.write(\"hehe without newline\")\n",
    "    f.write(\"test\\n\")\n",
    "    f.write(\"hehe with newline\\n\")"
   ]
  },
  {
   "cell_type": "code",
   "execution_count": null,
   "metadata": {},
   "outputs": [],
   "source": [
    "cat \"outFile.txt\""
   ]
  },
  {
   "cell_type": "markdown",
   "metadata": {},
   "source": [
    "## Style and document"
   ]
  },
  {
   "cell_type": "markdown",
   "metadata": {},
   "source": [
    "### pep8\n",
    "https://www.python.org/dev/peps/pep-0008/"
   ]
  },
  {
   "cell_type": "markdown",
   "metadata": {},
   "source": [
    "### document"
   ]
  },
  {
   "cell_type": "markdown",
   "metadata": {},
   "source": [
    "http://docs.astropy.org/en/stable/\n",
    "\n",
    "Created using Sphinx 1.3.5"
   ]
  },
  {
   "cell_type": "markdown",
   "metadata": {},
   "source": [
    "##### exmaple\n",
    "http://docs.astropy.org/en/stable/api/astropy.coordinates.cartesian_to_spherical.html?highlight=cartesian_to_spherical#astropy.coordinates.cartesian_to_spherical\n",
    "\n",
    "https://github.com/astropy/astropy/blob/master/astropy/coordinates/funcs.py\n",
    "```python\n",
    "def cartesian_to_spherical(x, y, z):\n",
    "    \"\"\"\n",
    "    Converts 3D rectangular cartesian coordinates to spherical polar\n",
    "    coordinates.\n",
    "    Note that the resulting angles are latitude/longitude or\n",
    "    elevation/azimuthal form.  I.e., the origin is along the equator\n",
    "    rather than at the north pole.\n",
    "    .. note::\n",
    "        This function simply wraps functionality provided by the\n",
    "        `~astropy.coordinates.CartesianRepresentation` and\n",
    "        `~astropy.coordinates.SphericalRepresentation` classes.  In general,\n",
    "        for both performance and readability, we suggest using these classes\n",
    "        directly.  But for situations where a quick one-off conversion makes\n",
    "        sense, this function is provided.\n",
    "    Parameters\n",
    "    ----------\n",
    "    x : scalar, array-like, or `~astropy.units.Quantity`\n",
    "        The first cartesian coordinate.\n",
    "    y : scalar, array-like, or `~astropy.units.Quantity`\n",
    "        The second cartesian coordinate.\n",
    "    z : scalar, array-like, or `~astropy.units.Quantity`\n",
    "        The third cartesian coordinate.\n",
    "    Returns\n",
    "    -------\n",
    "    r : `~astropy.units.Quantity`\n",
    "        The radial coordinate (in the same units as the inputs).\n",
    "    lat : `~astropy.units.Quantity`\n",
    "        The latitude in radians\n",
    "    lon : `~astropy.units.Quantity`\n",
    "        The longitude in radians\n",
    "    \"\"\"\n",
    "    if not hasattr(x, 'unit'):\n",
    "        x = x * u.dimensionless_unscaled\n",
    "    if not hasattr(y, 'unit'):\n",
    "        y = y * u.dimensionless_unscaled\n",
    "    if not hasattr(z, 'unit'):\n",
    "        z = z * u.dimensionless_unscaled\n",
    "\n",
    "    cart = CartesianRepresentation(x, y, z)\n",
    "    sph = cart.represent_as(SphericalRepresentation)\n",
    "\n",
    "    return sph.distance, sph.lat, sph.lon\n",
    "```\n",
    "\n",
    "##### when to add comments???"
   ]
  },
  {
   "cell_type": "markdown",
   "metadata": {},
   "source": [
    "# API Documentation Browser and Code Snippet Manager\n",
    "http://alternativeto.net/software/dashexpander/"
   ]
  }
 ],
 "metadata": {
  "kernelspec": {
   "display_name": "Python 3",
   "language": "python",
   "name": "python3"
  },
  "language_info": {
   "codemirror_mode": {
    "name": "ipython",
    "version": 3
   },
   "file_extension": ".py",
   "mimetype": "text/x-python",
   "name": "python",
   "nbconvert_exporter": "python",
   "pygments_lexer": "ipython3",
   "version": "3.6.5"
  }
 },
 "nbformat": 4,
 "nbformat_minor": 2
}
