{
 "cells": [
  {
   "cell_type": "markdown",
   "metadata": {},
   "source": [
    "# Python guild"
   ]
  },
  {
   "cell_type": "markdown",
   "metadata": {},
   "source": [
    "# Environment"
   ]
  },
  {
   "cell_type": "markdown",
   "metadata": {},
   "source": [
    "* python\n",
    "* ipython\n",
    "* jupyter notebook\n",
    "    * Tab is important\n",
    "* IDEs\n",
    "    * pycharm\n",
    "    * ...\n",
    "\n",
    "my environment:\n",
    "    Vim+ipython+pycharm\n",
    "    \n",
    "## package manager\n",
    "\n",
    "* pip\n",
    "    * pip install package\n",
    "* anaconda"
   ]
  },
  {
   "cell_type": "markdown",
   "metadata": {},
   "source": [
    "# concept of Object Oriented Programing"
   ]
  },
  {
   "cell_type": "markdown",
   "metadata": {},
   "source": [
    "# Python Syntax"
   ]
  },
  {
   "cell_type": "markdown",
   "metadata": {},
   "source": [
    "## packages"
   ]
  },
  {
   "cell_type": "code",
   "execution_count": 1,
   "metadata": {
    "collapsed": false
   },
   "outputs": [
    {
     "name": "stdout",
     "output_type": "stream",
     "text": [
      "The Zen of Python, by Tim Peters\n",
      "\n",
      "Beautiful is better than ugly.\n",
      "Explicit is better than implicit.\n",
      "Simple is better than complex.\n",
      "Complex is better than complicated.\n",
      "Flat is better than nested.\n",
      "Sparse is better than dense.\n",
      "Readability counts.\n",
      "Special cases aren't special enough to break the rules.\n",
      "Although practicality beats purity.\n",
      "Errors should never pass silently.\n",
      "Unless explicitly silenced.\n",
      "In the face of ambiguity, refuse the temptation to guess.\n",
      "There should be one-- and preferably only one --obvious way to do it.\n",
      "Although that way may not be obvious at first unless you're Dutch.\n",
      "Now is better than never.\n",
      "Although never is often better than *right* now.\n",
      "If the implementation is hard to explain, it's a bad idea.\n",
      "If the implementation is easy to explain, it may be a good idea.\n",
      "Namespaces are one honking great idea -- let's do more of those!\n"
     ]
    }
   ],
   "source": [
    "import this"
   ]
  },
  {
   "cell_type": "code",
   "execution_count": 13,
   "metadata": {
    "collapsed": false
   },
   "outputs": [
    {
     "name": "stdout",
     "output_type": "stream",
     "text": [
      "0.841470984808\n",
      "0.841470984808\n",
      "0.841470984808\n"
     ]
    }
   ],
   "source": [
    "import numpy as np\n",
    "from numpy import sin\n",
    "import numpy\n",
    "print np.sin(1)\n",
    "print sin(1)\n",
    "print numpy.sin(1)"
   ]
  },
  {
   "cell_type": "code",
   "execution_count": 14,
   "metadata": {
    "collapsed": false
   },
   "outputs": [
    {
     "name": "stdout",
     "output_type": "stream",
     "text": [
      "['', '/usr/local/lib/python2.7/site-packages/kapteyn-Apple-py2.7-macosx-10.11-x86_64.egg', '/usr/local/lib/python2.7/site-packages/Sphinx-1.4.5-py2.7.egg', '/usr/local/lib/python2.7/site-packages/imagesize-0.7.1-py2.7.egg', '/usr/local/lib/python2.7/site-packages/alabaster-0.7.9-py2.7.egg', '/usr/local/lib/python2.7/site-packages/Babel-2.3.4-py2.7.egg', '/usr/local/lib/python2.7/site-packages/snowballstemmer-1.2.1-py2.7.egg', '/Users/wujinnnnn/sourceCode/workspace/fmajorAstroUtils', '/Users/wujinnnnn/lib/pyLib', '/Users/wujinnnnn/lib/pyLib/fmajorUtils', '/Users/wujinnnnn/sourceCode/repos/pythonGuide', '/usr/local/Cellar/python/2.7.10_2/Frameworks/Python.framework/Versions/2.7/lib/python27.zip', '/usr/local/Cellar/python/2.7.10_2/Frameworks/Python.framework/Versions/2.7/lib/python2.7', '/usr/local/Cellar/python/2.7.10_2/Frameworks/Python.framework/Versions/2.7/lib/python2.7/plat-darwin', '/usr/local/Cellar/python/2.7.10_2/Frameworks/Python.framework/Versions/2.7/lib/python2.7/plat-mac', '/usr/local/Cellar/python/2.7.10_2/Frameworks/Python.framework/Versions/2.7/lib/python2.7/plat-mac/lib-scriptpackages', '/usr/local/Cellar/python/2.7.10_2/Frameworks/Python.framework/Versions/2.7/lib/python2.7/lib-tk', '/usr/local/Cellar/python/2.7.10_2/Frameworks/Python.framework/Versions/2.7/lib/python2.7/lib-old', '/usr/local/Cellar/python/2.7.10_2/Frameworks/Python.framework/Versions/2.7/lib/python2.7/lib-dynload', '/usr/local/lib/python2.7/site-packages', '/usr/local/lib/python2.7/site-packages', '/Library/Python/2.7/site-packages', '/Library/Python/2.7/site-packages/aeosa', '/usr/local/lib/python2.7/site-packages/IPython/extensions', '/Users/wujinnnnn/.ipython']\n"
     ]
    },
    {
     "ename": "ImportError",
     "evalue": "No module named blabla",
     "output_type": "error",
     "traceback": [
      "\u001b[0;31m---------------------------------------------------------------------------\u001b[0m",
      "\u001b[0;31mImportError\u001b[0m                               Traceback (most recent call last)",
      "\u001b[0;32m<ipython-input-14-ebdb93c77347>\u001b[0m in \u001b[0;36m<module>\u001b[0;34m()\u001b[0m\n\u001b[1;32m      2\u001b[0m \u001b[0;32mimport\u001b[0m \u001b[0mos\u001b[0m\u001b[0;34m\u001b[0m\u001b[0m\n\u001b[1;32m      3\u001b[0m \u001b[0;32mprint\u001b[0m \u001b[0msys\u001b[0m\u001b[0;34m.\u001b[0m\u001b[0mpath\u001b[0m\u001b[0;34m\u001b[0m\u001b[0m\n\u001b[0;32m----> 4\u001b[0;31m \u001b[0;32mimport\u001b[0m \u001b[0mblabla\u001b[0m\u001b[0;34m\u001b[0m\u001b[0m\n\u001b[0m",
      "\u001b[0;31mImportError\u001b[0m: No module named blabla"
     ]
    }
   ],
   "source": [
    "import sys\n",
    "import os\n",
    "print sys.path\n",
    "import blabla"
   ]
  },
  {
   "cell_type": "markdown",
   "metadata": {},
   "source": [
    "### $PYTHONPATH in shell is add into search directory of python"
   ]
  },
  {
   "cell_type": "markdown",
   "metadata": {},
   "source": [
    "├── a.py\n",
    "\n",
    "├── bb.py\n",
    "\n",
    "├── main.py\n",
    "\n",
    "└── module1\n",
    "\n",
    "    ├── aa.py\n",
    "    ├── bb.py\n",
    "    └── __init__.py\n",
    "    \n",
    "#======= main.py =========\n",
    "``` python\n",
    "print \"in main.py\"\n",
    "import a\n",
    "import a\n",
    "from a import afunc\n",
    "import module1\n",
    "from module1 import bb\n",
    "```\n",
    "#======= a.py =========\n",
    "``` python\n",
    "print \"in a.py\"\n",
    "def afunc():\n",
    "    pass\n",
    "```\n",
    "#======= \\_\\_init\\_\\_.py ========\n",
    "``` python\n",
    "print \"in module1.__init__\"\n",
    "from . import bb\n",
    "```\n",
    "#======= aa.py =========\n",
    "``` python\n",
    "print \"in aa.py\"\n",
    "```\n",
    "#======= module1/bb.py =========\n",
    "``` python\n",
    "print \"in bb.py\"\n",
    "from . import aa\n",
    "```"
   ]
  },
  {
   "cell_type": "markdown",
   "metadata": {},
   "source": [
    "in main.py\n",
    "in a.py\n",
    "in module1.__init__\n",
    "in bb.py\n",
    "in aa.py"
   ]
  },
  {
   "cell_type": "markdown",
   "metadata": {},
   "source": [
    "``` python\n",
    "# ipython -i main.py\n",
    "a.afunc()\n",
    "afunc()\n",
    "```"
   ]
  },
  {
   "cell_type": "markdown",
   "metadata": {},
   "source": [
    "## Python data type"
   ]
  },
  {
   "cell_type": "code",
   "execution_count": 16,
   "metadata": {
    "collapsed": false
   },
   "outputs": [
    {
     "name": "stdout",
     "output_type": "stream",
     "text": [
      "1\n",
      "1.0\n",
      "1\n",
      "[1, 1.0, '1', 'd', 123, 124, ['1', '2', 2, {'a': 'a'}]]\n",
      "{'a': 1, 'c': '1', 'b': 1.0, 'd': 'D'}\n",
      "(1, 1.0, '1', {'a': 1, 'c': '1', 'b': 1.0, 'd': 'D'})\n"
     ]
    }
   ],
   "source": [
    "a = 1\n",
    "b = 1.0\n",
    "c= \"1\"\n",
    "d = [a, b, c, \"d\", 123, 124, [\"1\", \"2\", 2, {\"a\":\"a\"}]]\n",
    "e = {\"a\":a, \"b\":b, \"c\":c, \"d\": \"D\"}\n",
    "f = (a,b,c,e)\n",
    "print a\n",
    "print b\n",
    "print c\n",
    "print d\n",
    "print e\n",
    "print f"
   ]
  },
  {
   "cell_type": "markdown",
   "metadata": {},
   "source": [
    "### number"
   ]
  },
  {
   "cell_type": "code",
   "execution_count": 18,
   "metadata": {
    "collapsed": false
   },
   "outputs": [
    {
     "name": "stdout",
     "output_type": "stream",
     "text": [
      "1\n",
      "126398089759770130470836565901101381787307471806420349694530295030444231243794124161274565242247477546959505128426170734611671113954340997186975448534537415025524746451629220712749159038542307948565956107358113368753055345446460300506908245474133990940730256694087566176302228353446719309712318998529644224132659626205216618744528389882299037873620213620812420037885156683654346991\n",
      "67\n",
      "1.0\n"
     ]
    }
   ],
   "source": [
    "print 1\n",
    "print 1231**123\n",
    "print 123**43 % 100\n",
    "print 1.0"
   ]
  },
  {
   "cell_type": "markdown",
   "metadata": {},
   "source": [
    "### List"
   ]
  },
  {
   "cell_type": "code",
   "execution_count": 23,
   "metadata": {
    "collapsed": false
   },
   "outputs": [
    {
     "name": "stdout",
     "output_type": "stream",
     "text": [
      "[1, 2, 3, 4, 5, 6, 7, 8, 9, 10, 11, 12, 13]\n"
     ]
    }
   ],
   "source": [
    "a = [1,2,3,4,5,6,7,8,9,10,11,12,13]\n",
    "print a"
   ]
  },
  {
   "cell_type": "markdown",
   "metadata": {},
   "source": [
    "#### slice"
   ]
  },
  {
   "cell_type": "code",
   "execution_count": 24,
   "metadata": {
    "collapsed": false
   },
   "outputs": [
    {
     "name": "stdout",
     "output_type": "stream",
     "text": [
      "[1, 2, 3, 4, 5, 6, 7, 8, 9, 10, 11, 12, 13]\n",
      "2\n",
      "13\n",
      "[2, 3, 4, 5, 6, 7, 8, 9, 10, 11, 12, 13]\n",
      "[1, 2, 3, 4, 5, 6, 7, 8, 9, 10, 11, 12]\n",
      "[2, 3, 4, 5, 6, 7, 8, 9, 10, 11, 12]\n",
      "[3, 4, 5]\n",
      "[1, 3, 5]\n",
      "[1, 4, 7, 10, 13]\n",
      "[3, 5]\n"
     ]
    }
   ],
   "source": [
    "print a[:]\n",
    "print a[1]\n",
    "print a[-1]\n",
    "print a[1:]\n",
    "print a[:-1]\n",
    "print a[1:-1]\n",
    "print a[2:5]\n",
    "print a[0:6:2]\n",
    "print a[::3]\n",
    "print a[2:5:2]"
   ]
  },
  {
   "cell_type": "code",
   "execution_count": 31,
   "metadata": {
    "collapsed": false
   },
   "outputs": [
    {
     "name": "stdout",
     "output_type": "stream",
     "text": [
      "[1, 2, 3, 4, 5, 6, 7, 8, 9, 10, 11, 12, 13]\n",
      "[1]\n",
      "[1, 2, 3, 4, 5, 6, 7, 8, 9, 10, 11, 12]\n",
      "[2, 3, 4, 5, 6, 7, 8, 9, 10, 11, 12, 13]\n",
      "[1, 2, 3, 4, 5, 6, 7, 8, 9, 10, 11, 12]\n",
      "[2, 3, 4, 5, 6, 7, 8, 9, 10, 11, 12]\n",
      "[3, 4, 5]\n",
      "[1, 3, 5]\n",
      "[1, 4, 7, 10, 13]\n",
      "[3, 5]\n"
     ]
    }
   ],
   "source": [
    "#print a[:]\n",
    "print a[slice(None)]\n",
    "#print a[1]\n",
    "print a[slice(1)]\n",
    "#print a[-1]\n",
    "print a[slice(-1)]\n",
    "#print a[1:]\n",
    "print a[slice(1,None)]\n",
    "#print a[:-1]\n",
    "print a[slice(None,-1)]\n",
    "#print a[1:-1]\n",
    "print a[slice(1,-1)]\n",
    "#print a[2:5]\n",
    "print a[slice(2,5)]\n",
    "#print a[0:6:2]\n",
    "print a[slice(0,6,2)]\n",
    "#print a[::3]\n",
    "print a[slice(None, None, 3)]\n",
    "#print a[2:5:2]\n",
    "print a[slice(2,5,2)]"
   ]
  },
  {
   "cell_type": "code",
   "execution_count": 33,
   "metadata": {
    "collapsed": false
   },
   "outputs": [
    {
     "name": "stdout",
     "output_type": "stream",
     "text": [
      "[3, 5] [3, 5] [6, 6]\n",
      "[3, 5] [3, 5] [6, 6]\n"
     ]
    }
   ],
   "source": [
    "b = [1,2,3,4,5,6,7];c=[6,4,6,4,6,2,3,4]\n",
    "blabla = slice(2,5,2)\n",
    "print a[2:5:2], b[2:5:2], c[2:5:2]\n",
    "print a[blabla], b[blabla], c[blabla]"
   ]
  },
  {
   "cell_type": "code",
   "execution_count": 35,
   "metadata": {
    "collapsed": false
   },
   "outputs": [
    {
     "name": "stdout",
     "output_type": "stream",
     "text": [
      "[0, 1, 2, 3, 4, 5, 6, 7, 8, 9]\n",
      "[2, 3, 4, 5, 6, 7, 8, 9]\n",
      "[2, 4, 6, 8]\n"
     ]
    }
   ],
   "source": [
    "print range(10)\n",
    "print range(2,10)\n",
    "print range(2,10,2)"
   ]
  },
  {
   "cell_type": "code",
   "execution_count": 54,
   "metadata": {
    "collapsed": true
   },
   "outputs": [],
   "source": [
    "a = [1,3,5,7,9,\"6\",[7,8,9],10]"
   ]
  },
  {
   "cell_type": "markdown",
   "metadata": {},
   "source": [
    "```a.append   a.count    a.extend   a.index    a.insert   a.pop     a.remove   a.reverse  a.sort```"
   ]
  },
  {
   "cell_type": "code",
   "execution_count": 55,
   "metadata": {
    "collapsed": false
   },
   "outputs": [
    {
     "name": "stdout",
     "output_type": "stream",
     "text": [
      "[1, 3, 5, 7, 9, '6', [7, 8, 9], 10]\n",
      "[1, 3, 5, 7, 9, '6', [7, 8, 9], 10, 10]\n",
      "1\n",
      "['hehe', 1, 3, 5, 7, 9, '6', [7, 8, 9], 10, 10]\n",
      "7\n",
      "['hehe', 1, 3, 5, 9, '6', [7, 8, 9], 10, 10]\n",
      "10\n",
      "['hehe', 1, 3, 5, 9, '6', [7, 8, 9], 10]\n",
      "[10, [7, 8, 9], '6', 9, 5, 3, 1, 'hehe']\n",
      "['hehe', 1, 3, 5, 9, '6', [7, 8, 9], 10]\n",
      "[10, [7, 8, 9], '6', 9, 5, 3, 1, 'hehe']\n"
     ]
    }
   ],
   "source": [
    "print a\n",
    "a.append(10)\n",
    "print a\n",
    "print a.index(3)\n",
    "a.insert(0,\"hehe\")\n",
    "print a\n",
    "print a.pop(4)\n",
    "print a\n",
    "print a.pop()\n",
    "print a\n",
    "a.reverse()\n",
    "print a\n",
    "print a[::-1]\n",
    "print a"
   ]
  },
  {
   "cell_type": "markdown",
   "metadata": {},
   "source": [
    "### tuple"
   ]
  },
  {
   "cell_type": "code",
   "execution_count": 60,
   "metadata": {
    "collapsed": false
   },
   "outputs": [
    {
     "name": "stdout",
     "output_type": "stream",
     "text": [
      "<type 'tuple'> <type 'tuple'> <type 'int'> <type 'tuple'> <type 'tuple'>\n",
      "(1, 2, 3) (1, 2, 3) 1 (1,) (1,)\n"
     ]
    }
   ],
   "source": [
    "a = (1,2,3)\n",
    "b = 1,2,3\n",
    "c = (1)\n",
    "d = (1,)\n",
    "f = 1,\n",
    "print type(a), type(b), type(c), type(d), type(f)\n",
    "print a,b,c,d,f"
   ]
  },
  {
   "cell_type": "markdown",
   "metadata": {},
   "source": [
    "a.count  a.index"
   ]
  },
  {
   "cell_type": "code",
   "execution_count": 90,
   "metadata": {
    "collapsed": false
   },
   "outputs": [
    {
     "name": "stdout",
     "output_type": "stream",
     "text": [
      "[1, 'hehe', 3]\n"
     ]
    },
    {
     "ename": "TypeError",
     "evalue": "'tuple' object does not support item assignment",
     "output_type": "error",
     "traceback": [
      "\u001b[0;31m---------------------------------------------------------------------------\u001b[0m",
      "\u001b[0;31mTypeError\u001b[0m                                 Traceback (most recent call last)",
      "\u001b[0;32m<ipython-input-90-757e32c46b7b>\u001b[0m in \u001b[0;36m<module>\u001b[0;34m()\u001b[0m\n\u001b[1;32m      3\u001b[0m \u001b[0ma\u001b[0m\u001b[0;34m[\u001b[0m\u001b[0;36m1\u001b[0m\u001b[0;34m]\u001b[0m \u001b[0;34m=\u001b[0m \u001b[0;34m\"hehe\"\u001b[0m\u001b[0;34m\u001b[0m\u001b[0m\n\u001b[1;32m      4\u001b[0m \u001b[0;32mprint\u001b[0m \u001b[0ma\u001b[0m\u001b[0;34m\u001b[0m\u001b[0m\n\u001b[0;32m----> 5\u001b[0;31m \u001b[0mb\u001b[0m\u001b[0;34m[\u001b[0m\u001b[0;36m1\u001b[0m\u001b[0;34m]\u001b[0m \u001b[0;34m=\u001b[0m \u001b[0;34m\"hehe\"\u001b[0m\u001b[0;34m\u001b[0m\u001b[0m\n\u001b[0m",
      "\u001b[0;31mTypeError\u001b[0m: 'tuple' object does not support item assignment"
     ]
    }
   ],
   "source": [
    "a = [1,2,3]\n",
    "b = 1,2,3\n",
    "a[1] = \"hehe\"\n",
    "print a\n",
    "b[1] = \"hehe\""
   ]
  },
  {
   "cell_type": "markdown",
   "metadata": {},
   "source": [
    "### pack and unpack"
   ]
  },
  {
   "cell_type": "code",
   "execution_count": 62,
   "metadata": {
    "collapsed": false
   },
   "outputs": [
    {
     "name": "stdout",
     "output_type": "stream",
     "text": [
      "1 2 3 2 3 1\n"
     ]
    }
   ],
   "source": [
    "a=1;b=2;c=3\n",
    "d,e,f = b,c,a\n",
    "print a,b,c,d,e,f"
   ]
  },
  {
   "cell_type": "code",
   "execution_count": 66,
   "metadata": {
    "collapsed": false
   },
   "outputs": [
    {
     "name": "stdout",
     "output_type": "stream",
     "text": [
      "1\n",
      "hehe\n",
      "lala\n",
      "54\n",
      "23\n"
     ]
    }
   ],
   "source": [
    "a,b,c,d,(e,f) = 1, \"hehe\", \"lala\", 2.0, (54, 23)\n",
    "print a\n",
    "print b\n",
    "print c\n",
    "print e\n",
    "print f"
   ]
  },
  {
   "cell_type": "code",
   "execution_count": 67,
   "metadata": {
    "collapsed": false
   },
   "outputs": [
    {
     "name": "stdout",
     "output_type": "stream",
     "text": [
      "1\n",
      "hehe\n",
      "lala\n",
      "54\n",
      "23\n"
     ]
    }
   ],
   "source": [
    "todo = [1, \"hehe\", \"lala\", 2.0, (54, 23)]\n",
    "a,b,c,d,(e,f) = todo\n",
    "print a\n",
    "print b\n",
    "print c\n",
    "print e\n",
    "print f"
   ]
  },
  {
   "cell_type": "code",
   "execution_count": 69,
   "metadata": {
    "collapsed": false
   },
   "outputs": [
    {
     "name": "stdout",
     "output_type": "stream",
     "text": [
      "2 1\n"
     ]
    }
   ],
   "source": [
    "a=1;b=2;\n",
    "a,b = b,a\n",
    "print a,b"
   ]
  },
  {
   "cell_type": "markdown",
   "metadata": {},
   "source": [
    "### list derivation"
   ]
  },
  {
   "cell_type": "markdown",
   "metadata": {},
   "source": [
    "#### str"
   ]
  },
  {
   "cell_type": "code",
   "execution_count": 77,
   "metadata": {
    "collapsed": false
   },
   "outputs": [
    {
     "name": "stdout",
     "output_type": "stream",
     "text": [
      "1 1.0 [1, 2, '3']\n"
     ]
    }
   ],
   "source": [
    "a=1\n",
    "b=1.0\n",
    "c=[1,2,\"3\"]\n",
    "print a, b, c"
   ]
  },
  {
   "cell_type": "code",
   "execution_count": 79,
   "metadata": {
    "collapsed": false
   },
   "outputs": [
    {
     "name": "stdout",
     "output_type": "stream",
     "text": [
      "<type 'int'> <type 'float'> <type 'list'>\n",
      "<type 'str'> <type 'str'> <type 'str'>\n",
      "1 1.0 [1, 2, '3']\n"
     ]
    }
   ],
   "source": [
    "aa = str(a)\n",
    "bb = str(b)\n",
    "cc = str(c)\n",
    "print type(a), type(b), type(c)\n",
    "print type(aa), type(bb), type(cc)\n",
    "print aa, bb, cc"
   ]
  },
  {
   "cell_type": "code",
   "execution_count": 80,
   "metadata": {
    "collapsed": false
   },
   "outputs": [
    {
     "name": "stdout",
     "output_type": "stream",
     "text": [
      "123\n",
      "456\n",
      "123456\n",
      "123456123456\n"
     ]
    }
   ],
   "source": [
    "a = \"123\"\n",
    "b = '456'\n",
    "c = a+b\n",
    "print a\n",
    "print b\n",
    "print c\n",
    "print c + c"
   ]
  },
  {
   "cell_type": "markdown",
   "metadata": {},
   "source": [
    "### for"
   ]
  },
  {
   "cell_type": "code",
   "execution_count": 89,
   "metadata": {
    "collapsed": false
   },
   "outputs": [
    {
     "name": "stdout",
     "output_type": "stream",
     "text": [
      "<type 'list'> <type 'tuple'>\n",
      "[1, 2.0, '3', [4, 5, 6], {'2': 5}] (1, 2.0, '3', [4, 5, 6], {'2': 5})\n",
      "================\n",
      "1\n",
      "2.0\n",
      "3\n",
      "[4, 5, 6]\n",
      "{'2': 5}\n",
      "================\n",
      "1\n",
      "2.0\n",
      "3\n",
      "[4, 5, 6]\n",
      "{'2': 5}\n"
     ]
    }
   ],
   "source": [
    "a = [1,2.0,\"3\", [4,5,6], {\"2\":5}]\n",
    "b = tuple(a)\n",
    "print type(a), type(b)\n",
    "print a,b\n",
    "print \"================\"\n",
    "for each in a:\n",
    "    print each\n",
    "print \"================\"\n",
    "for each in b:\n",
    "    print each"
   ]
  },
  {
   "cell_type": "code",
   "execution_count": 84,
   "metadata": {
    "collapsed": false
   },
   "outputs": [
    {
     "name": "stdout",
     "output_type": "stream",
     "text": [
      "[0, 1, 2, 3, 4, 5, 6, 7, 8, 9]\n",
      "['0', '1', '2', '3', '4', '5', '6', '7', '8', '9']\n",
      "['0', '1', '2', '3', '4', '5', '6', '7', '8', '9']\n"
     ]
    }
   ],
   "source": [
    "a = range(10)\n",
    "b = []\n",
    "for blabla in a:\n",
    "    b.append(str(blabla))\n",
    "c = [str(each) for each in a]\n",
    "print a\n",
    "print b\n",
    "print c"
   ]
  },
  {
   "cell_type": "code",
   "execution_count": 172,
   "metadata": {
    "collapsed": false,
    "scrolled": false
   },
   "outputs": [
    {
     "name": "stdout",
     "output_type": "stream",
     "text": [
      "0\n",
      "0\n",
      "2\n",
      "2\n",
      "4\n",
      "4\n",
      "6\n",
      "6\n",
      "8\n",
      "8\n",
      "10\n",
      "10\n",
      "12\n",
      "12\n"
     ]
    }
   ],
   "source": [
    "for i in range(20):\n",
    "    if i%2 == 0:\n",
    "        print i\n",
    "    else:\n",
    "        continue\n",
    "    print i\n",
    "    if i>10:\n",
    "        break"
   ]
  },
  {
   "cell_type": "code",
   "execution_count": 173,
   "metadata": {
    "collapsed": false
   },
   "outputs": [
    {
     "name": "stdout",
     "output_type": "stream",
     "text": [
      "The count is: 0\n",
      "The count is: 1\n",
      "The count is: 2\n",
      "The count is: 3\n",
      "The count is: 4\n",
      "The count is: 5\n",
      "The count is: 6\n",
      "The count is: 7\n",
      "The count is: 8\n",
      "Good bye!\n"
     ]
    }
   ],
   "source": [
    "count = 0\n",
    "while (count < 9):\n",
    "   print 'The count is:', count\n",
    "   count = count + 1\n",
    "\n",
    "print \"Good bye!\""
   ]
  },
  {
   "cell_type": "code",
   "execution_count": 96,
   "metadata": {
    "collapsed": false
   },
   "outputs": [
    {
     "name": "stdout",
     "output_type": "stream",
     "text": [
      "[1, 3, 5, 7, 9]\n",
      "[2, 4, 6, 8, 10]\n",
      "['1:2', '1:4', '1:6', '1:8', '1:10', '3:2', '3:4', '3:6', '3:8', '3:10', '5:2', '5:4', '5:6', '5:8', '5:10', '7:2', '7:4', '7:6', '7:8', '7:10', '9:2', '9:4', '9:6', '9:8', '9:10']\n"
     ]
    }
   ],
   "source": [
    "a = [1,3,5,7,9]\n",
    "b = [2,4,6,8,10]\n",
    "c = [str(eachA)+':'+str(eachB) for eachA in a for eachB in b]\n",
    "print a\n",
    "print b\n",
    "print c"
   ]
  },
  {
   "cell_type": "markdown",
   "metadata": {},
   "source": [
    "### String"
   ]
  },
  {
   "cell_type": "code",
   "execution_count": 106,
   "metadata": {
    "collapsed": false
   },
   "outputs": [
    {
     "name": "stdout",
     "output_type": "stream",
     "text": [
      "12312312\n",
      "\thehe\n",
      "\n",
      ", df\n",
      "12312312, df\n"
     ]
    }
   ],
   "source": [
    "a = \"12312312\"\n",
    "b = \", df\"\n",
    "c = \"\\thehe\\n\"\n",
    "print a\n",
    "print c\n",
    "print b\n",
    "print a + b"
   ]
  },
  {
   "cell_type": "code",
   "execution_count": 109,
   "metadata": {
    "collapsed": true
   },
   "outputs": [],
   "source": [
    "a = str(123456789)\n",
    "aa = \"123456789\""
   ]
  },
  {
   "cell_type": "markdown",
   "metadata": {},
   "source": [
    "```aa.capitalize  aa.decode      aa.expandtabs  aa.index       aa.isdigit     aa.istitle     aa.ljust       aa.partition   aa.rindex      aa.rsplit      aa.splitlines  aa.swapcase    aa.upper\n",
    "aa.center      aa.encode      aa.find        aa.isalnum     aa.islower     aa.isupper     aa.lower       aa.replace     aa.rjust       aa.rstrip      aa.startswith  aa.title       aa.zfill\n",
    "aa.count       aa.endswith    aa.format      aa.isalpha     aa.isspace     aa.join        aa.lstrip      aa.rfind       aa.rpartition  aa.split       aa.strip       aa.translate```"
   ]
  },
  {
   "cell_type": "code",
   "execution_count": 110,
   "metadata": {
    "collapsed": false
   },
   "outputs": [
    {
     "name": "stdout",
     "output_type": "stream",
     "text": [
      "2345678\n",
      "5\n",
      "True\n",
      "False\n"
     ]
    }
   ],
   "source": [
    "print aa[1:-1]\n",
    "print aa.index('6')\n",
    "print aa.isdigit()\n",
    "print aa.isalpha()"
   ]
  },
  {
   "cell_type": "code",
   "execution_count": 102,
   "metadata": {
    "collapsed": false
   },
   "outputs": [
    {
     "name": "stdout",
     "output_type": "stream",
     "text": [
      "   asdf   asfd    \n",
      "asdf   asfd\n"
     ]
    }
   ],
   "source": [
    "a = \"   asdf   asfd    \"\n",
    "print a\n",
    "print a.strip()"
   ]
  },
  {
   "cell_type": "code",
   "execution_count": 115,
   "metadata": {
    "collapsed": false
   },
   "outputs": [
    {
     "name": "stdout",
     "output_type": "stream",
     "text": [
      "[0, 1, 2, 3, 4, 5, 6, 7, 8, 9]\n",
      "<type 'list'> ['0', '1', '2', '3', '4', '5', '6', '7', '8', '9'] ['0', '1', '2', '3', '4', '5', '6', '7', '8', '9']\n",
      "<type 'str'> 0, 1, 2, 3, 4, 5, 6, 7, 8, 9\n"
     ]
    }
   ],
   "source": [
    "a = range(10)\n",
    "b = [str(each) for each in a] # pythonic\n",
    "print a\n",
    "print type(b), b, str(b)\n",
    "c = \", \"\n",
    "d = c.join(b)\n",
    "print type(d), d"
   ]
  },
  {
   "cell_type": "code",
   "execution_count": 117,
   "metadata": {
    "collapsed": false,
    "scrolled": true
   },
   "outputs": [
    {
     "name": "stdout",
     "output_type": "stream",
     "text": [
      "['1,', '2,', '3,', '4,', '5,', '6,', '7']\n",
      "['1,', '2,', '3,', '4,', '5,', '6,', '7']\n",
      "['1', ' 2', ' 3', ' 4', ' 5', ' 6', ' 7']\n",
      "['1', '2', '3', '4', '5', '6', '7']\n",
      "['1, 2, 3, ', ', 6, 7']\n",
      "['1, 2, 3, 4, 5, 6, 7']\n"
     ]
    }
   ],
   "source": [
    "a = '1, 2, 3, 4, 5, 6, 7'\n",
    "print a.split()\n",
    "print a.split(\" \")\n",
    "print a.split(\",\")\n",
    "print a.split(\", \")\n",
    "print a.split('4, 5')\n",
    "print a.split(\"fds\")"
   ]
  },
  {
   "cell_type": "markdown",
   "metadata": {},
   "source": [
    "### \\\\"
   ]
  },
  {
   "cell_type": "code",
   "execution_count": 254,
   "metadata": {
    "collapsed": false
   },
   "outputs": [
    {
     "name": "stdout",
     "output_type": "stream",
     "text": [
      "abc123\n",
      "abc\"123\n",
      "abc\\123\n",
      "abc\\\\123\n",
      "\\bhi\\b.*\\bLucy\\b\n",
      "0\\d\\d-\\d\\d\\d\\d\\d\\d\\d\\d\n",
      "abc\\123\n",
      "abc\\\"123\n"
     ]
    }
   ],
   "source": [
    "a = \"abc123\"; print a\n",
    "a = \"abc\\\"123\"; print a\n",
    "a = \"abc\\\\123\"; print a\n",
    "a = \"abc\\\\\\\\123\"; print a\n",
    "a = \"\\\\bhi\\\\b.*\\\\bLucy\\\\b\"; print a\n",
    "a = \"0\\\\d\\\\d-\\\\d\\\\d\\\\d\\\\d\\\\d\\\\d\\\\d\\\\d\"; print a\n",
    "\n",
    "a = r\"abc\\123\"; print a\n",
    "a = r\"abc\\\"123\"; print a"
   ]
  },
  {
   "cell_type": "markdown",
   "metadata": {},
   "source": [
    "## Dict"
   ]
  },
  {
   "cell_type": "code",
   "execution_count": 119,
   "metadata": {
    "collapsed": false
   },
   "outputs": [
    {
     "name": "stdout",
     "output_type": "stream",
     "text": [
      "{'a': 1, 'c': '1', 'b': 1.0, 'e': {'a': 2}, 'd': [1, 2, 3]}\n",
      "1\n",
      "2\n",
      "2\n"
     ]
    }
   ],
   "source": [
    "a = {\"a\":1, \"b\":1.0, \"c\": \"1\", \"d\":[1,2,3], \"e\":{\"a\":2}}\n",
    "print a\n",
    "print a[\"a\"]\n",
    "print a[\"d\"][1]\n",
    "print a[\"e\"][\"a\"]"
   ]
  },
  {
   "cell_type": "markdown",
   "metadata": {},
   "source": [
    "```a.clear       a.fromkeys    a.has_key     a.iteritems   a.itervalues  a.pop         a.setdefault  a.values      a.viewkeys\n",
    "a.copy        a.get         a.items       a.iterkeys    a.keys        a.popitem     a.update      a.viewitems   a.viewvalues```"
   ]
  },
  {
   "cell_type": "code",
   "execution_count": 125,
   "metadata": {
    "collapsed": false
   },
   "outputs": [
    {
     "name": "stdout",
     "output_type": "stream",
     "text": [
      "['a', 'c', 'b', 'e', 'd']\n",
      "1.0\n",
      "[1, '1', {'a': 2}, [1, 2, 3]]\n",
      "False True\n",
      "{'a': 0, 'c': '1', 'e': {'a': 2}, 'd': [1, 2, 3], 'f': 'hehe'}\n"
     ]
    }
   ],
   "source": [
    "# dict has no order\n",
    "a = {\"a\":1, \"b\":1.0, \"c\": \"1\", \"d\":[1,2,3], \"e\":{\"a\":2}}\n",
    "print a.keys()\n",
    "print a.pop(\"b\")\n",
    "print a.values()\n",
    "print a.has_key(\"f\"),  a.has_key(\"d\")\n",
    "a.update({\"f\":\"hehe\", \"a\":0})\n",
    "print a"
   ]
  },
  {
   "cell_type": "code",
   "execution_count": 122,
   "metadata": {
    "collapsed": false,
    "scrolled": true
   },
   "outputs": [
    {
     "name": "stdout",
     "output_type": "stream",
     "text": [
      "1\n"
     ]
    },
    {
     "ename": "KeyError",
     "evalue": "'c'",
     "output_type": "error",
     "traceback": [
      "\u001b[0;31m---------------------------------------------------------------------------\u001b[0m",
      "\u001b[0;31mKeyError\u001b[0m                                  Traceback (most recent call last)",
      "\u001b[0;32m<ipython-input-122-d2551e547319>\u001b[0m in \u001b[0;36m<module>\u001b[0;34m()\u001b[0m\n\u001b[1;32m      1\u001b[0m \u001b[0ma\u001b[0m \u001b[0;34m=\u001b[0m \u001b[0;34m{\u001b[0m\u001b[0;34m\"a\"\u001b[0m\u001b[0;34m:\u001b[0m\u001b[0;36m1\u001b[0m\u001b[0;34m,\u001b[0m \u001b[0;34m\"b\"\u001b[0m\u001b[0;34m:\u001b[0m\u001b[0;36m2\u001b[0m\u001b[0;34m}\u001b[0m\u001b[0;34m\u001b[0m\u001b[0m\n\u001b[1;32m      2\u001b[0m \u001b[0;32mprint\u001b[0m \u001b[0ma\u001b[0m\u001b[0;34m[\u001b[0m\u001b[0;34m\"a\"\u001b[0m\u001b[0;34m]\u001b[0m\u001b[0;34m\u001b[0m\u001b[0m\n\u001b[0;32m----> 3\u001b[0;31m \u001b[0;32mprint\u001b[0m \u001b[0ma\u001b[0m\u001b[0;34m[\u001b[0m\u001b[0;34m\"c\"\u001b[0m\u001b[0;34m]\u001b[0m\u001b[0;34m\u001b[0m\u001b[0m\n\u001b[0m",
      "\u001b[0;31mKeyError\u001b[0m: 'c'"
     ]
    }
   ],
   "source": [
    "a = {\"a\":1, \"b\":2}\n",
    "print a[\"a\"]\n",
    "print a[\"c\"]"
   ]
  },
  {
   "cell_type": "markdown",
   "metadata": {},
   "source": [
    "### If"
   ]
  },
  {
   "cell_type": "code",
   "execution_count": 127,
   "metadata": {
    "collapsed": false
   },
   "outputs": [
    {
     "name": "stdout",
     "output_type": "stream",
     "text": [
      "a<=0\n",
      "a==0\n",
      "a is False\n",
      "b is True\n",
      "c is True\n",
      "d is True\n",
      "f is False\n",
      "g is None\n",
      "len(h)!=0\n"
     ]
    }
   ],
   "source": [
    "a = 0\n",
    "b = 1\n",
    "c = 1.0\n",
    "d = \"asdf\"\n",
    "f = \"\"\n",
    "g = None\n",
    "h = [1,2,3]\n",
    "\n",
    "if a>0:\n",
    "    print \"a>0\"\n",
    "else:\n",
    "    print \"a<=0\"\n",
    "    \n",
    "if a>0:\n",
    "    print \"a>0\"\n",
    "elif a==0:\n",
    "    print \"a==0\"\n",
    "else:\n",
    "    print \"a<0\"\n",
    "\n",
    "if not a:\n",
    "    print \"a is False\"\n",
    "    \n",
    "if b:\n",
    "    print \"b is True\"\n",
    "\n",
    "if c:\n",
    "    print \"c is True\"\n",
    "if d:\n",
    "    print \"d is True\"\n",
    "if not f:\n",
    "    print \"f is False\"\n",
    "if g is None:\n",
    "    print \"g is None\"\n",
    "else:\n",
    "    print \"g is not None\"\n",
    "\n",
    "if len(h):\n",
    "    print \"len(h)!=0\"\n",
    "else:\n",
    "    print \"len(h)==0\""
   ]
  },
  {
   "cell_type": "code",
   "execution_count": 123,
   "metadata": {
    "collapsed": false
   },
   "outputs": [
    {
     "name": "stdout",
     "output_type": "stream",
     "text": [
      "1\n",
      "lalala\n",
      "d is None\n"
     ]
    }
   ],
   "source": [
    "a = {\"a\":1, \"b\":2}\n",
    "print a.get(\"a\", \"lalala\")\n",
    "print a.get(\"c\", \"lalala\")\n",
    "d = a.get(\"c\")\n",
    "if d is None:\n",
    "    print \"d is None\""
   ]
  },
  {
   "cell_type": "code",
   "execution_count": 175,
   "metadata": {
    "collapsed": false
   },
   "outputs": [
    {
     "name": "stdout",
     "output_type": "stream",
     "text": [
      "a[ a ]= 1\n",
      "a[ c ]= hehe\n",
      "a[ b ]= 2.0\n",
      "a[ d ]= 5\n",
      "===========================\n",
      "['a', 'c', 'b', 'd']\n",
      "===========================\n",
      "a[ a ]= 1\n",
      "a[ c ]= hehe\n",
      "a[ b ]= 2.0\n",
      "a[ d ]= 5\n"
     ]
    }
   ],
   "source": [
    "a = {\"a\":1, \"b\":2.0, \"c\":\"hehe\", \"d\":5}\n",
    "for eachKey in a:\n",
    "    print \"a[\", eachKey, \"]=\", a[eachKey]\n",
    "print \"===========================\"\n",
    "print a.keys()\n",
    "print \"===========================\"\n",
    "for eachKey in a.keys():\n",
    "    print \"a[\", eachKey, \"]=\", a[eachKey]    "
   ]
  },
  {
   "cell_type": "markdown",
   "metadata": {},
   "source": [
    "## memory use"
   ]
  },
  {
   "cell_type": "code",
   "execution_count": 133,
   "metadata": {
    "collapsed": true
   },
   "outputs": [],
   "source": [
    "a = range(100000000)"
   ]
  },
  {
   "cell_type": "code",
   "execution_count": 135,
   "metadata": {
    "collapsed": false
   },
   "outputs": [
    {
     "name": "stdout",
     "output_type": "stream",
     "text": [
      "4417561016 4417561016\n"
     ]
    }
   ],
   "source": [
    "b = a\n",
    "print id(a), id(b)"
   ]
  },
  {
   "cell_type": "code",
   "execution_count": 142,
   "metadata": {
    "collapsed": false
   },
   "outputs": [
    {
     "name": "stdout",
     "output_type": "stream",
     "text": [
      "140625459556632 140625459556632\n",
      "140625459556608 140625459556632\n",
      "2 1\n"
     ]
    }
   ],
   "source": [
    "c=1\n",
    "d=c\n",
    "print id(c), id(d)\n",
    "c = 2\n",
    "print id(c), id(d)\n",
    "print c,d"
   ]
  },
  {
   "cell_type": "code",
   "execution_count": 145,
   "metadata": {
    "collapsed": false
   },
   "outputs": [
    {
     "name": "stdout",
     "output_type": "stream",
     "text": [
      "4417648472 4417869224\n",
      "[3, 2, 1] [1, 2, 3]\n",
      "4417562888 4417562888\n",
      "[3, 2, 1] [3, 2, 1]\n"
     ]
    }
   ],
   "source": [
    "a = [1,2,3]\n",
    "b = [1,2,3]\n",
    "a.reverse()\n",
    "print id(a), id(b)\n",
    "print a, b\n",
    "a = [1,2,3]\n",
    "b = a\n",
    "b.reverse()\n",
    "print id(a), id(b)\n",
    "print a, b"
   ]
  },
  {
   "cell_type": "code",
   "execution_count": 147,
   "metadata": {
    "collapsed": false
   },
   "outputs": [
    {
     "name": "stdout",
     "output_type": "stream",
     "text": [
      "4417647680 4417663416\n",
      "[1, 2, 3] [1, 2, 3]\n",
      "[1, 2, 3] [3, 2, 1]\n"
     ]
    }
   ],
   "source": [
    "import copy\n",
    "a = [1,2,3]\n",
    "b = copy.copy(a)\n",
    "print id(a), id(b)\n",
    "print a, b\n",
    "b.reverse()\n",
    "print a, b"
   ]
  },
  {
   "cell_type": "markdown",
   "metadata": {},
   "source": [
    "## function (is very fancy)"
   ]
  },
  {
   "cell_type": "code",
   "execution_count": 158,
   "metadata": {
    "collapsed": false
   },
   "outputs": [
    {
     "name": "stdout",
     "output_type": "stream",
     "text": [
      "None None 6 123\n"
     ]
    },
    {
     "ename": "TypeError",
     "evalue": "unsupported operand type(s) for +: 'int' and 'str'",
     "output_type": "error",
     "traceback": [
      "\u001b[0;31m---------------------------------------------------------------------------\u001b[0m",
      "\u001b[0;31mTypeError\u001b[0m                                 Traceback (most recent call last)",
      "\u001b[0;32m<ipython-input-158-33132efd730e>\u001b[0m in \u001b[0;36m<module>\u001b[0;34m()\u001b[0m\n\u001b[1;32m     12\u001b[0m \u001b[0;34m\u001b[0m\u001b[0m\n\u001b[1;32m     13\u001b[0m \u001b[0;32mprint\u001b[0m \u001b[0ma0\u001b[0m\u001b[0;34m,\u001b[0m\u001b[0ma\u001b[0m\u001b[0;34m,\u001b[0m\u001b[0mb\u001b[0m\u001b[0;34m,\u001b[0m\u001b[0md\u001b[0m\u001b[0;34m\u001b[0m\u001b[0m\n\u001b[0;32m---> 14\u001b[0;31m \u001b[0me\u001b[0m \u001b[0;34m=\u001b[0m \u001b[0mf2\u001b[0m\u001b[0;34m(\u001b[0m\u001b[0;36m1\u001b[0m\u001b[0;34m,\u001b[0m\u001b[0;36m2\u001b[0m\u001b[0;34m,\u001b[0m\u001b[0;34m\"3\"\u001b[0m\u001b[0;34m)\u001b[0m\u001b[0;34m\u001b[0m\u001b[0m\n\u001b[0m",
      "\u001b[0;32m<ipython-input-158-33132efd730e>\u001b[0m in \u001b[0;36mf2\u001b[0;34m(a, b, c)\u001b[0m\n\u001b[1;32m      4\u001b[0m     \u001b[0;32mpass\u001b[0m\u001b[0;34m\u001b[0m\u001b[0m\n\u001b[1;32m      5\u001b[0m \u001b[0;32mdef\u001b[0m \u001b[0mf2\u001b[0m\u001b[0;34m(\u001b[0m\u001b[0ma\u001b[0m\u001b[0;34m,\u001b[0m\u001b[0mb\u001b[0m\u001b[0;34m,\u001b[0m\u001b[0mc\u001b[0m\u001b[0;34m)\u001b[0m\u001b[0;34m:\u001b[0m\u001b[0;34m\u001b[0m\u001b[0m\n\u001b[0;32m----> 6\u001b[0;31m     \u001b[0;32mreturn\u001b[0m \u001b[0ma\u001b[0m\u001b[0;34m+\u001b[0m\u001b[0mb\u001b[0m\u001b[0;34m+\u001b[0m\u001b[0mc\u001b[0m\u001b[0;34m\u001b[0m\u001b[0m\n\u001b[0m\u001b[1;32m      7\u001b[0m \u001b[0;34m\u001b[0m\u001b[0m\n\u001b[1;32m      8\u001b[0m \u001b[0ma0\u001b[0m \u001b[0;34m=\u001b[0m \u001b[0mf0\u001b[0m\u001b[0;34m(\u001b[0m\u001b[0;34m)\u001b[0m\u001b[0;34m\u001b[0m\u001b[0m\n",
      "\u001b[0;31mTypeError\u001b[0m: unsupported operand type(s) for +: 'int' and 'str'"
     ]
    }
   ],
   "source": [
    "def f0():\n",
    "    return\n",
    "def f1():\n",
    "    pass\n",
    "def f2(a,b,c):\n",
    "    return a+b+c\n",
    "\n",
    "a0 = f0()\n",
    "a = f1()\n",
    "b = f2(1,2,3)\n",
    "d = f2(\"1\",\"2\",\"3\")\n",
    "\n",
    "print a0,a,b,d\n",
    "e = f2(1,2,\"3\")\n"
   ]
  },
  {
   "cell_type": "code",
   "execution_count": 164,
   "metadata": {
    "collapsed": false
   },
   "outputs": [
    {
     "name": "stdout",
     "output_type": "stream",
     "text": [
      "1 123\n",
      "1 2\n",
      "1 1\n",
      "10 1\n",
      "10 20\n",
      "1 10\n"
     ]
    },
    {
     "ename": "TypeError",
     "evalue": "f1() takes at most 2 arguments (3 given)",
     "output_type": "error",
     "traceback": [
      "\u001b[0;31m---------------------------------------------------------------------------\u001b[0m",
      "\u001b[0;31mTypeError\u001b[0m                                 Traceback (most recent call last)",
      "\u001b[0;32m<ipython-input-164-0776b7c1935a>\u001b[0m in \u001b[0;36m<module>\u001b[0;34m()\u001b[0m\n\u001b[1;32m     11\u001b[0m \u001b[0mf1\u001b[0m\u001b[0;34m(\u001b[0m\u001b[0;36m10\u001b[0m\u001b[0;34m,\u001b[0m\u001b[0;36m20\u001b[0m\u001b[0;34m)\u001b[0m\u001b[0;34m\u001b[0m\u001b[0m\n\u001b[1;32m     12\u001b[0m \u001b[0mf1\u001b[0m\u001b[0;34m(\u001b[0m\u001b[0mb\u001b[0m\u001b[0;34m=\u001b[0m\u001b[0;36m10\u001b[0m\u001b[0;34m)\u001b[0m\u001b[0;34m\u001b[0m\u001b[0m\n\u001b[0;32m---> 13\u001b[0;31m \u001b[0mf1\u001b[0m\u001b[0;34m(\u001b[0m\u001b[0;36m1\u001b[0m\u001b[0;34m,\u001b[0m\u001b[0;36m2\u001b[0m\u001b[0;34m,\u001b[0m\u001b[0;36m3\u001b[0m\u001b[0;34m)\u001b[0m\u001b[0;34m\u001b[0m\u001b[0m\n\u001b[0m",
      "\u001b[0;31mTypeError\u001b[0m: f1() takes at most 2 arguments (3 given)"
     ]
    }
   ],
   "source": [
    "def f0(a, b=123):\n",
    "    print a,b\n",
    "    \n",
    "def f1(a=1, b=1):\n",
    "    print a,b\n",
    "    \n",
    "f0(1)\n",
    "f0(1,2)\n",
    "f1()\n",
    "f1(10)\n",
    "f1(10,20)\n",
    "f1(b=10)\n",
    "f1(1,2,3)"
   ]
  },
  {
   "cell_type": "code",
   "execution_count": 166,
   "metadata": {
    "collapsed": false
   },
   "outputs": [
    {
     "name": "stdout",
     "output_type": "stream",
     "text": [
      "1 ()\n",
      "1 (2,)\n",
      "1 (2, 3, 4, 5, 6, 7, 8, 9)\n"
     ]
    }
   ],
   "source": [
    "def f0(a, *args):\n",
    "    print a, args\n",
    "f0(1)\n",
    "f0(1,2)\n",
    "f0(1,2,3,4,5,6,7,8,9)"
   ]
  },
  {
   "cell_type": "code",
   "execution_count": 170,
   "metadata": {
    "collapsed": false
   },
   "outputs": [
    {
     "name": "stdout",
     "output_type": "stream",
     "text": [
      "1 () {}\n",
      "1 (2,) {}\n",
      "1 (2,) {'b': 1}\n",
      "1 (2, 3, 4, 5) {'c': 'hehe', 'b': 1, 'asdf': 'adfasdf'}\n"
     ]
    }
   ],
   "source": [
    "def f0(a, *args, **kwargs):\n",
    "    print a, args, kwargs\n",
    "f0(1)\n",
    "f0(1, 2)\n",
    "f0(1, 2, b=1)\n",
    "f0(1, 2,3,4,5, b=1, c=\"hehe\", asdf=\"adfasdf\")\n",
    "\n",
    "# f0(1, 2,3, c=\"hehe\", 4,5, b=1, asdf=\"adfasdf\")\n",
    "# SyntaxError: non-keyword arg after keyword arg"
   ]
  },
  {
   "cell_type": "markdown",
   "metadata": {},
   "source": [
    "## Class"
   ]
  },
  {
   "cell_type": "code",
   "execution_count": 205,
   "metadata": {
    "collapsed": false
   },
   "outputs": [
    {
     "name": "stdout",
     "output_type": "stream",
     "text": [
      "Wang, wang, wang. I am Dog\n",
      "Dog 1\n",
      "Wang, wang, wang. I am xiaohei\n",
      "xiaohei 1\n",
      "Wang, wang, wang. I am xiaobai\n",
      "xiaobai 2\n",
      "Dog: name is xiaohei\n"
     ]
    }
   ],
   "source": [
    "class Dog():\n",
    "    def __init__(self, name=\"Dog\", age=\"1\"):\n",
    "        self.name = name\n",
    "        self.age = age\n",
    "    \n",
    "    def shout(self):\n",
    "        print \"Wang, wang, wang. I am {}\".format(self.name)\n",
    "    \n",
    "    def __str__(self):\n",
    "        return \"Dog: name is {}\".format(self.name)\n",
    "\n",
    "\n",
    "gou = Dog()\n",
    "xiaohei = Dog(\"xiaohei\")\n",
    "xiaobai = Dog(\"xiaobai\", age=2)\n",
    "\n",
    "gou.shout()\n",
    "print gou.name, gou.age\n",
    "xiaohei.shout()\n",
    "print xiaohei.name, xiaohei.age\n",
    "xiaobai.shout()\n",
    "print xiaobai.name, xiaobai.age\n",
    "\n",
    "t = str(xiaohei)\n",
    "print t\n",
    "print xiaohei.__str__()"
   ]
  },
  {
   "cell_type": "code",
   "execution_count": 3,
   "metadata": {
    "collapsed": false
   },
   "outputs": [
    {
     "name": "stdout",
     "output_type": "stream",
     "text": [
      "[('2016-09-13T00:08:25', 100.75341292657043), ('2016-09-13T00:09:25', 100.12202360207236), ('2016-09-13T00:10:25', 100.49708532865083), ('2016-09-13T00:11:25', 100.50503314190092), ('2016-09-13T00:12:25', 100.26471466565441), ('2016-09-13T00:13:25', 100.89760242857875), ('2016-09-13T00:14:25', 100.57832168604946), ('2016-09-13T00:15:25', 100.10599343210426), ('2016-09-13T00:16:25', 100.47359974098957), ('2016-09-13T00:17:25', 100.62192730324985), ('2016-09-13T00:18:25', 100.8174741566328), ('2016-09-13T00:19:25', 100.94371532072265), ('2016-09-13T00:20:25', 100.70456501206496), ('2016-09-13T00:21:25', 100.05245161656076), ('2016-09-13T00:22:25', 100.82515921463595), ('2016-09-13T00:23:25', 100.64294622462974), ('2016-09-13T00:24:25', 100.09544106208376), ('2016-09-13T00:25:25', 100.50850613245485), ('2016-09-13T00:26:25', 100.65340253296509), ('2016-09-13T00:27:25', 100.55196100055547)]\n",
      "====================================\n",
      "['2016-09-13T00:08:25', '2016-09-13T00:09:25', '2016-09-13T00:10:25', '2016-09-13T00:11:25', '2016-09-13T00:12:25', '2016-09-13T00:13:25', '2016-09-13T00:14:25', '2016-09-13T00:15:25', '2016-09-13T00:16:25', '2016-09-13T00:17:25', '2016-09-13T00:18:25', '2016-09-13T00:19:25', '2016-09-13T00:20:25', '2016-09-13T00:21:25', '2016-09-13T00:22:25', '2016-09-13T00:23:25', '2016-09-13T00:24:25', '2016-09-13T00:25:25', '2016-09-13T00:26:25', '2016-09-13T00:27:25']\n",
      "[100.75341292657043, 100.12202360207236, 100.49708532865083, 100.50503314190092, 100.26471466565441, 100.89760242857875, 100.57832168604946, 100.10599343210426, 100.47359974098957, 100.62192730324985, 100.8174741566328, 100.94371532072265, 100.70456501206496, 100.05245161656076, 100.82515921463595, 100.64294622462974, 100.09544106208376, 100.50850613245485, 100.65340253296509, 100.55196100055547]\n",
      "[100.49708532865083, 100.50503314190092, 100.26471466565441]\n"
     ]
    }
   ],
   "source": [
    "class VariableStar():\n",
    "    def __init__(self, values, name=\"000\"):\n",
    "        self.pairs = values\n",
    "        self.name  = name\n",
    "        self.times = [each[0] for each in values]\n",
    "        self.flux = [each[1] for each in values]\n",
    "    \n",
    "    def __getitem__(self, key):\n",
    "        return self.flux[key]\n",
    "   \n",
    "import time\n",
    "import random\n",
    "def getTimeStr(t):\n",
    "    return time.strftime(\"%Y-%m-%dT%H:%M:%S\", time.gmtime(t))\n",
    "\n",
    "a = [(getTimeStr(eachTime+time.time()) ,100+random.random()) for eachTime in range(-60*20, 0, 60)]\n",
    "print a\n",
    "\n",
    "s1 = VariableStar(a)\n",
    "print \"====================================\"\n",
    "print s1.times\n",
    "print s1.flux\n",
    "print s1[2:5]"
   ]
  },
  {
   "cell_type": "markdown",
   "metadata": {},
   "source": [
    "### iterator"
   ]
  },
  {
   "cell_type": "code",
   "execution_count": 214,
   "metadata": {
    "collapsed": false
   },
   "outputs": [
    {
     "name": "stdout",
     "output_type": "stream",
     "text": [
      "<type 'list'> <type 'listiterator'>\n",
      "0\n",
      "1\n",
      "2\n",
      "3\n",
      "4\n",
      "5\n",
      "6\n",
      "7\n",
      "8\n",
      "9\n",
      "===========================\n",
      "0\n",
      "1\n",
      "2\n",
      "3\n",
      "4\n",
      "5\n",
      "6\n",
      "7\n",
      "8\n",
      "9\n"
     ]
    }
   ],
   "source": [
    "a = range(10)\n",
    "aa = a.__iter__()\n",
    "print type(a), type(aa)\n",
    "for i in a:\n",
    "    print i\n",
    "print \"===========================\"    \n",
    "for i in aa:\n",
    "    print i"
   ]
  },
  {
   "cell_type": "code",
   "execution_count": 222,
   "metadata": {
    "collapsed": false
   },
   "outputs": [
    {
     "name": "stdout",
     "output_type": "stream",
     "text": [
      "[0, 1, 2, 3, 4]\n",
      "<type 'list'> <type 'listiterator'>\n",
      "0\n",
      "1\n",
      "2\n",
      "3\n",
      "4\n"
     ]
    },
    {
     "ename": "StopIteration",
     "evalue": "",
     "output_type": "error",
     "traceback": [
      "\u001b[0;31m---------------------------------------------------------------------------\u001b[0m",
      "\u001b[0;31mStopIteration\u001b[0m                             Traceback (most recent call last)",
      "\u001b[0;32m<ipython-input-222-ede3709df6ed>\u001b[0m in \u001b[0;36m<module>\u001b[0;34m()\u001b[0m\n\u001b[1;32m      8\u001b[0m \u001b[0;32mprint\u001b[0m \u001b[0mnext\u001b[0m\u001b[0;34m(\u001b[0m\u001b[0maa\u001b[0m\u001b[0;34m)\u001b[0m\u001b[0;34m\u001b[0m\u001b[0m\n\u001b[1;32m      9\u001b[0m \u001b[0;32mprint\u001b[0m \u001b[0mnext\u001b[0m\u001b[0;34m(\u001b[0m\u001b[0maa\u001b[0m\u001b[0;34m)\u001b[0m\u001b[0;34m\u001b[0m\u001b[0m\n\u001b[0;32m---> 10\u001b[0;31m \u001b[0;32mprint\u001b[0m \u001b[0mnext\u001b[0m\u001b[0;34m(\u001b[0m\u001b[0maa\u001b[0m\u001b[0;34m)\u001b[0m\u001b[0;34m\u001b[0m\u001b[0m\n\u001b[0m",
      "\u001b[0;31mStopIteration\u001b[0m: "
     ]
    }
   ],
   "source": [
    "a = range(5)\n",
    "aa = a.__iter__()\n",
    "print a\n",
    "print type(a), type(aa)\n",
    "print next(aa)\n",
    "print next(aa)\n",
    "print next(aa)\n",
    "print next(aa)\n",
    "print next(aa)\n",
    "print next(aa)\n"
   ]
  },
  {
   "cell_type": "markdown",
   "metadata": {},
   "source": [
    "## try/catch/else"
   ]
  },
  {
   "cell_type": "markdown",
   "metadata": {},
   "source": [
    "http://www.runoob.com/python/python-exceptions.html"
   ]
  },
  {
   "cell_type": "code",
   "execution_count": 237,
   "metadata": {
    "collapsed": false
   },
   "outputs": [
    {
     "name": "stdout",
     "output_type": "stream",
     "text": [
      "no error\n",
      "i am here 123\n"
     ]
    }
   ],
   "source": [
    "try:\n",
    "    a = int(\"123\")\n",
    "except ValueError as e:\n",
    "    print \"have error\"\n",
    "    print e\n",
    "else:\n",
    "    print \"no error\"\n",
    "print \"i am here\", a"
   ]
  },
  {
   "cell_type": "code",
   "execution_count": 240,
   "metadata": {
    "collapsed": false
   },
   "outputs": [
    {
     "name": "stdout",
     "output_type": "stream",
     "text": [
      "have error\n",
      "invalid literal for int() with base 10: '123a'\n",
      "i am here\n"
     ]
    }
   ],
   "source": [
    "try:\n",
    "    a = int(\"123a\")\n",
    "except ValueError as e:\n",
    "    print \"have error\"\n",
    "    print e\n",
    "else:\n",
    "    print \"no error\"\n",
    "print \"i am here\""
   ]
  },
  {
   "cell_type": "code",
   "execution_count": 241,
   "metadata": {
    "collapsed": false
   },
   "outputs": [
    {
     "ename": "ValueError",
     "evalue": "invalid literal for int() with base 10: '123a'",
     "output_type": "error",
     "traceback": [
      "\u001b[0;31m---------------------------------------------------------------------------\u001b[0m",
      "\u001b[0;31mValueError\u001b[0m                                Traceback (most recent call last)",
      "\u001b[0;32m<ipython-input-241-ffc5c745ca03>\u001b[0m in \u001b[0;36m<module>\u001b[0;34m()\u001b[0m\n\u001b[0;32m----> 1\u001b[0;31m \u001b[0ma\u001b[0m \u001b[0;34m=\u001b[0m \u001b[0mint\u001b[0m\u001b[0;34m(\u001b[0m\u001b[0;34m\"123a\"\u001b[0m\u001b[0;34m)\u001b[0m\u001b[0;34m\u001b[0m\u001b[0m\n\u001b[0m",
      "\u001b[0;31mValueError\u001b[0m: invalid literal for int() with base 10: '123a'"
     ]
    }
   ],
   "source": [
    "a = int(\"123a\")"
   ]
  },
  {
   "cell_type": "markdown",
   "metadata": {},
   "source": [
    "## Python 2 and 3\n",
    "http://python-future.org/compatible_idioms.html\n",
    "\n",
    "`from __future__ import (absolute_import, division, print_function, unicode_literals)`"
   ]
  },
  {
   "cell_type": "code",
   "execution_count": null,
   "metadata": {
    "collapsed": true
   },
   "outputs": [],
   "source": []
  }
 ],
 "metadata": {
  "kernelspec": {
   "display_name": "Python 2",
   "language": "python",
   "name": "python2"
  },
  "language_info": {
   "codemirror_mode": {
    "name": "ipython",
    "version": 2
   },
   "file_extension": ".py",
   "mimetype": "text/x-python",
   "name": "python",
   "nbconvert_exporter": "python",
   "pygments_lexer": "ipython2",
   "version": "2.7.10"
  }
 },
 "nbformat": 4,
 "nbformat_minor": 0
}
